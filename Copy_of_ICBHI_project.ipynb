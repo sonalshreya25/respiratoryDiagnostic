{
  "nbformat": 4,
  "nbformat_minor": 0,
  "metadata": {
    "colab": {
      "provenance": [],
      "gpuType": "T4",
      "authorship_tag": "ABX9TyMKQq1BpykW+ArTuMbhHG4e",
      "include_colab_link": true
    },
    "kernelspec": {
      "name": "python3",
      "display_name": "Python 3"
    },
    "language_info": {
      "name": "python"
    },
    "accelerator": "GPU"
  },
  "cells": [
    {
      "cell_type": "markdown",
      "metadata": {
        "id": "view-in-github",
        "colab_type": "text"
      },
      "source": [
        "<a href=\"https://colab.research.google.com/github/sonalshreya25/respiratoryDiagnostic/blob/dev/Copy_of_ICBHI_project.ipynb\" target=\"_parent\"><img src=\"https://colab.research.google.com/assets/colab-badge.svg\" alt=\"Open In Colab\"/></a>"
      ]
    },
    {
      "cell_type": "markdown",
      "source": [
        "# **Step 1: Mount Google Drive**\n",
        "\n",
        "This code mounts my Google Drive into the Colab environment so I can read and write files directly — including loading audio data, saving spectrograms, and storing Grad-CAM visualizations.\n",
        "\n",
        "Once I run this cell, I’ll be prompted to authenticate with my Google account. After authentication, my Drive becomes available at the path `/content/drive/`.\n"
      ],
      "metadata": {
        "id": "wY4H41Wol44e"
      }
    },
    {
      "cell_type": "code",
      "execution_count": null,
      "metadata": {
        "colab": {
          "base_uri": "https://localhost:8080/"
        },
        "id": "0xNFdW92uMOY",
        "outputId": "696d1ce1-1861-4128-f80b-b21e82184ea7"
      },
      "outputs": [
        {
          "output_type": "stream",
          "name": "stdout",
          "text": [
            "Mounted at /content/drive\n"
          ]
        }
      ],
      "source": [
        "from google.colab import drive\n",
        "drive.mount('/content/drive')\n"
      ]
    },
    {
      "cell_type": "markdown",
      "source": [
        "# **Step 2: Set Paths**\n",
        "\n",
        "This block imports the required Python libraries for file handling, data processing, audio loading, and visualization.\n",
        "\n",
        "It also defines paths to important files and folders located in Google Drive, including:\n",
        "- `root_dir`: the base directory of the ICBHI dataset\n",
        "- `audio_dir`: folder containing the `.wav` recordings and annotation files\n",
        "- `diagnosis_file`: contains patient IDs and their diagnosis labels\n",
        "- `train_patients_file` and `test_patients_file`: define which patients belong to the training and testing sets\n",
        "- `train_test_file`: contains train/test split information at the recording level\n",
        "- `events_folder`: includes event-level annotations (e.g., wheezes and crackles)\n"
      ],
      "metadata": {
        "id": "D6E8Hq68mlYR"
      }
    },
    {
      "cell_type": "code",
      "source": [
        "# STEP 2: Set Paths\n",
        "import os\n",
        "import pandas as pd\n",
        "from glob import glob\n",
        "import librosa\n",
        "import numpy as np\n",
        "from tqdm import tqdm\n",
        "import matplotlib.pyplot as plt\n",
        "\n",
        "# Change this to your Google Drive path\n",
        "root_dir = \"/content/drive/MyDrive/ICBHI_final_database\"\n",
        "audio_dir = os.path.join(root_dir, \"recordings_annotations\")\n",
        "diagnosis_file = os.path.join(root_dir, \"diagnosis_data.txt\")\n",
        "train_patients_file = os.path.join(root_dir, \"train_data.txt\")\n",
        "test_patients_file = os.path.join(root_dir, \"test_data.txt\")\n",
        "train_test_file = os.path.join(root_dir, \"train_test_data.txt\")\n",
        "events_folder = os.path.join(root_dir, \"events/events\")\n"
      ],
      "metadata": {
        "id": "xmJvxazpueMX"
      },
      "execution_count": null,
      "outputs": []
    },
    {
      "cell_type": "markdown",
      "source": [
        "# **Step 3: Load Diagnosis and Patient Split Data**\n",
        "\n",
        "This block loads important metadata required to organize and label the dataset:\n",
        "\n",
        "- The `diagnosis_df` DataFrame reads patient diagnosis information from `diagnosis_data.txt`, which includes a patient ID and their corresponding label (diagnosis class).\n",
        "- Patient IDs are converted to string type to ensure consistent matching later.\n",
        "\n",
        "Next, the training and testing patient splits are read from `train_data.txt` and `test_data.txt`, respectively. These lists help assign each recording to the correct dataset partition for model training and evaluation.\n"
      ],
      "metadata": {
        "id": "lHr4tCg2m7eU"
      }
    },
    {
      "cell_type": "code",
      "source": [
        "# STEP 3: Load diagnosis and patient split data\n",
        "diagnosis_df = pd.read_csv(diagnosis_file, header=None, sep='\\t', names=['Patient_ID', 'Diagnosis'])\n",
        "diagnosis_df['Patient_ID'] = diagnosis_df['Patient_ID'].astype(str)\n",
        "\n",
        "with open(train_patients_file, 'r') as f:\n",
        "    train_patients = [line.strip() for line in f.readlines()]\n",
        "\n",
        "with open(test_patients_file, 'r') as f:\n",
        "    test_patients = [line.strip() for line in f.readlines()]\n"
      ],
      "metadata": {
        "id": "h2M_zrzdumOC"
      },
      "execution_count": null,
      "outputs": []
    },
    {
      "cell_type": "markdown",
      "source": [
        "# **Step 4: Scan Audio and Annotation Files**\n",
        "\n",
        "This step scans through all the `.wav` audio recordings and their corresponding `.txt` annotation files in the dataset.\n",
        "\n",
        "For each audio file:\n",
        "- The patient ID is extracted from the filename.\n",
        "- It checks if the corresponding annotation file exists.\n",
        "- The patient’s diagnosis is retrieved using their ID.\n",
        "- The file is categorized as part of the train/test/unknown split based on the patient ID.\n",
        "\n",
        "All relevant metadata — such as patient ID, file name, full paths, diagnosis, and dataset split — is compiled into a dictionary and appended to a list.\n",
        "\n",
        "Finally, the list is converted into a `pandas` DataFrame (`df`) that serves as the master reference table for the dataset.\n"
      ],
      "metadata": {
        "id": "SskCxghSnfwO"
      }
    },
    {
      "cell_type": "code",
      "source": [
        "#STEP 4: Scan all audio + annotation files\n",
        "data = []\n",
        "\n",
        "for wav_file in tqdm(glob(os.path.join(audio_dir, \"*.wav\"))):\n",
        "    base_name = os.path.basename(wav_file)\n",
        "    patient_id = base_name.split('_')[0]\n",
        "    txt_file = wav_file.replace(\".wav\", \".txt\")\n",
        "\n",
        "    if not os.path.exists(txt_file):\n",
        "        continue\n",
        "\n",
        "    diagnosis = diagnosis_df.loc[diagnosis_df['Patient_ID'] == patient_id, 'Diagnosis']\n",
        "    diagnosis = diagnosis.values[0] if not diagnosis.empty else None\n",
        "\n",
        "    if patient_id in train_patients:\n",
        "        split = 'train'\n",
        "    elif patient_id in test_patients:\n",
        "        split = 'test'\n",
        "    else:\n",
        "        split = 'unknown'\n",
        "\n",
        "    data.append({\n",
        "        'Patient_ID': patient_id,\n",
        "        'File': base_name,\n",
        "        'WAV_Path': wav_file,\n",
        "        'TXT_Path': txt_file,\n",
        "        'Diagnosis': diagnosis,\n",
        "        'Split': split\n",
        "    })\n",
        "\n",
        "df = pd.DataFrame(data)\n"
      ],
      "metadata": {
        "colab": {
          "base_uri": "https://localhost:8080/"
        },
        "id": "orayHGP2upye",
        "outputId": "c7770ba7-6ae8-4740-f0d4-8d426986fb48"
      },
      "execution_count": null,
      "outputs": [
        {
          "output_type": "stream",
          "name": "stderr",
          "text": [
            "100%|██████████| 920/920 [00:00<00:00, 1400.89it/s]\n"
          ]
        }
      ]
    },
    {
      "cell_type": "markdown",
      "source": [
        "# **Step 5: Extract Crackle and Wheeze Events from Annotation Files**\n",
        "\n",
        "This step processes the event-level annotation files to identify whether each recording contains audible crackles and/or wheezes.\n",
        "\n",
        "- The function `extract_events` builds the path to each recording’s corresponding `_events.txt` file.\n",
        "- It checks for the presence of the words \"crackle\" or \"wheeze\" (case-insensitive) in the file.\n",
        "- If found, it sets binary flags `has_crackle` and `has_wheeze` accordingly.\n",
        "\n",
        "These values are applied to every file listed in the DataFrame, and two new columns — `Crackles` and `Wheezes` — are added to indicate the presence of these features.\n"
      ],
      "metadata": {
        "id": "zvJcvG2snsIh"
      }
    },
    {
      "cell_type": "code",
      "source": [
        "# STEP 5: Extract crackle and wheeze events from event files\n",
        "def extract_events(file_name):\n",
        "    base_name = os.path.splitext(file_name)[0]\n",
        "    events_file = os.path.join(events_folder, base_name + '_events.txt')\n",
        "    has_crackle, has_wheeze = 0, 0\n",
        "    try:\n",
        "        with open(events_file, 'r') as f:\n",
        "            for line in f:\n",
        "                if 'crackle' in line.lower():\n",
        "                    has_crackle = 1\n",
        "                if 'wheeze' in line.lower():\n",
        "                    has_wheeze = 1\n",
        "    except FileNotFoundError:\n",
        "        pass\n",
        "    return pd.Series([has_crackle, has_wheeze])\n",
        "\n",
        "df[['Crackles', 'Wheezes']] = df['File'].apply(extract_events)\n"
      ],
      "metadata": {
        "id": "qh6SX-kduufO"
      },
      "execution_count": null,
      "outputs": []
    },
    {
      "cell_type": "markdown",
      "source": [
        "# **Step 6: Merge Refined Train/Test Split from File**\n",
        "\n",
        "This step updates the train/test split information in the main DataFrame using a refined version of the split provided in `train_test_data.txt`.\n",
        "\n",
        "- The file is loaded into a DataFrame with columns `FileBase` (base filename) and `Split` (either `train` or `test`).\n",
        "- A new `File` column is created by appending `.wav` to match the filenames in the main DataFrame.\n",
        "- The old `Split` column is dropped from the main DataFrame to avoid conflict.\n",
        "- A merge is performed to update the split labels based on the actual file names.\n",
        "- Any files that were not found in the split file are assigned the split label `unknown`.\n",
        "\n",
        "This ensures that every audio file is now properly assigned to the training, testing, or unknown group.\n"
      ],
      "metadata": {
        "id": "5Z7SZcFIn1gl"
      }
    },
    {
      "cell_type": "code",
      "source": [
        "# STEP 6: Merge refined train/test data from shared file\n",
        "split_df = pd.read_csv(\n",
        "    train_test_file,\n",
        "    sep='\\t',\n",
        "    header=None,\n",
        "    names=['FileBase', 'Split']\n",
        ")\n",
        "split_df['File'] = split_df['FileBase'] + '.wav'\n",
        "split_df.drop(columns='FileBase', inplace=True)\n",
        "\n",
        "df = df.drop(columns=['Split'])  # Remove old one\n",
        "df = df.merge(split_df, on='File', how='left')\n",
        "df['Split'] = df['Split'].fillna('unknown')\n"
      ],
      "metadata": {
        "id": "TxAPGR83vM1j"
      },
      "execution_count": null,
      "outputs": []
    },
    {
      "cell_type": "markdown",
      "source": [
        "# **Step 7: Display the Final DataFrame**\n",
        "\n",
        "This step displays the final shape and a preview of the constructed DataFrame (`df`).\n",
        "\n",
        "By this point, the DataFrame includes:\n",
        "- File-level metadata (e.g., filename, paths)\n",
        "- Patient-level information (e.g., diagnosis)\n",
        "- Audio event features (`Crackles`, `Wheezes`)\n",
        "- The final `Split` column indicating whether each file belongs to the training, testing, or unknown set\n",
        "\n",
        "This serves as the master reference table that will be used throughout the preprocessing and model training pipeline.\n"
      ],
      "metadata": {
        "id": "74jKfsX0oGei"
      }
    },
    {
      "cell_type": "code",
      "source": [
        "# STEP 7: Display the final DataFrame\n",
        "print(\" Final DataFrame shape:\", df.shape)\n",
        "df.head()\n"
      ],
      "metadata": {
        "colab": {
          "base_uri": "https://localhost:8080/",
          "height": 223
        },
        "id": "7Hmcn0UvvPim",
        "outputId": "bbb27c3a-9802-4ceb-d08a-afa9da4c3b51"
      },
      "execution_count": null,
      "outputs": [
        {
          "output_type": "stream",
          "name": "stdout",
          "text": [
            " Final DataFrame shape: (920, 8)\n"
          ]
        },
        {
          "output_type": "execute_result",
          "data": {
            "text/plain": [
              "  Patient_ID                        File  \\\n",
              "0        160  160_1b3_Tc_mc_AKGC417L.wav   \n",
              "1        160  160_1b4_Ar_mc_AKGC417L.wav   \n",
              "2        158  158_1p4_Tc_mc_AKGC417L.wav   \n",
              "3        160  160_1b3_Al_mc_AKGC417L.wav   \n",
              "4        159  159_1b1_Ll_sc_Meditron.wav   \n",
              "\n",
              "                                            WAV_Path  \\\n",
              "0  /content/drive/MyDrive/ICBHI_final_database/re...   \n",
              "1  /content/drive/MyDrive/ICBHI_final_database/re...   \n",
              "2  /content/drive/MyDrive/ICBHI_final_database/re...   \n",
              "3  /content/drive/MyDrive/ICBHI_final_database/re...   \n",
              "4  /content/drive/MyDrive/ICBHI_final_database/re...   \n",
              "\n",
              "                                            TXT_Path Diagnosis  Crackles  \\\n",
              "0  /content/drive/MyDrive/ICBHI_final_database/re...      COPD         0   \n",
              "1  /content/drive/MyDrive/ICBHI_final_database/re...      COPD         1   \n",
              "2  /content/drive/MyDrive/ICBHI_final_database/re...      COPD         0   \n",
              "3  /content/drive/MyDrive/ICBHI_final_database/re...      COPD         1   \n",
              "4  /content/drive/MyDrive/ICBHI_final_database/re...   Healthy         0   \n",
              "\n",
              "   Wheezes  Split  \n",
              "0        1   test  \n",
              "1        1   test  \n",
              "2        1  train  \n",
              "3        1   test  \n",
              "4        0  train  "
            ],
            "text/html": [
              "\n",
              "  <div id=\"df-5f792a3c-5b6e-4969-bcb1-3f6b09fb90b9\" class=\"colab-df-container\">\n",
              "    <div>\n",
              "<style scoped>\n",
              "    .dataframe tbody tr th:only-of-type {\n",
              "        vertical-align: middle;\n",
              "    }\n",
              "\n",
              "    .dataframe tbody tr th {\n",
              "        vertical-align: top;\n",
              "    }\n",
              "\n",
              "    .dataframe thead th {\n",
              "        text-align: right;\n",
              "    }\n",
              "</style>\n",
              "<table border=\"1\" class=\"dataframe\">\n",
              "  <thead>\n",
              "    <tr style=\"text-align: right;\">\n",
              "      <th></th>\n",
              "      <th>Patient_ID</th>\n",
              "      <th>File</th>\n",
              "      <th>WAV_Path</th>\n",
              "      <th>TXT_Path</th>\n",
              "      <th>Diagnosis</th>\n",
              "      <th>Crackles</th>\n",
              "      <th>Wheezes</th>\n",
              "      <th>Split</th>\n",
              "    </tr>\n",
              "  </thead>\n",
              "  <tbody>\n",
              "    <tr>\n",
              "      <th>0</th>\n",
              "      <td>160</td>\n",
              "      <td>160_1b3_Tc_mc_AKGC417L.wav</td>\n",
              "      <td>/content/drive/MyDrive/ICBHI_final_database/re...</td>\n",
              "      <td>/content/drive/MyDrive/ICBHI_final_database/re...</td>\n",
              "      <td>COPD</td>\n",
              "      <td>0</td>\n",
              "      <td>1</td>\n",
              "      <td>test</td>\n",
              "    </tr>\n",
              "    <tr>\n",
              "      <th>1</th>\n",
              "      <td>160</td>\n",
              "      <td>160_1b4_Ar_mc_AKGC417L.wav</td>\n",
              "      <td>/content/drive/MyDrive/ICBHI_final_database/re...</td>\n",
              "      <td>/content/drive/MyDrive/ICBHI_final_database/re...</td>\n",
              "      <td>COPD</td>\n",
              "      <td>1</td>\n",
              "      <td>1</td>\n",
              "      <td>test</td>\n",
              "    </tr>\n",
              "    <tr>\n",
              "      <th>2</th>\n",
              "      <td>158</td>\n",
              "      <td>158_1p4_Tc_mc_AKGC417L.wav</td>\n",
              "      <td>/content/drive/MyDrive/ICBHI_final_database/re...</td>\n",
              "      <td>/content/drive/MyDrive/ICBHI_final_database/re...</td>\n",
              "      <td>COPD</td>\n",
              "      <td>0</td>\n",
              "      <td>1</td>\n",
              "      <td>train</td>\n",
              "    </tr>\n",
              "    <tr>\n",
              "      <th>3</th>\n",
              "      <td>160</td>\n",
              "      <td>160_1b3_Al_mc_AKGC417L.wav</td>\n",
              "      <td>/content/drive/MyDrive/ICBHI_final_database/re...</td>\n",
              "      <td>/content/drive/MyDrive/ICBHI_final_database/re...</td>\n",
              "      <td>COPD</td>\n",
              "      <td>1</td>\n",
              "      <td>1</td>\n",
              "      <td>test</td>\n",
              "    </tr>\n",
              "    <tr>\n",
              "      <th>4</th>\n",
              "      <td>159</td>\n",
              "      <td>159_1b1_Ll_sc_Meditron.wav</td>\n",
              "      <td>/content/drive/MyDrive/ICBHI_final_database/re...</td>\n",
              "      <td>/content/drive/MyDrive/ICBHI_final_database/re...</td>\n",
              "      <td>Healthy</td>\n",
              "      <td>0</td>\n",
              "      <td>0</td>\n",
              "      <td>train</td>\n",
              "    </tr>\n",
              "  </tbody>\n",
              "</table>\n",
              "</div>\n",
              "    <div class=\"colab-df-buttons\">\n",
              "\n",
              "  <div class=\"colab-df-container\">\n",
              "    <button class=\"colab-df-convert\" onclick=\"convertToInteractive('df-5f792a3c-5b6e-4969-bcb1-3f6b09fb90b9')\"\n",
              "            title=\"Convert this dataframe to an interactive table.\"\n",
              "            style=\"display:none;\">\n",
              "\n",
              "  <svg xmlns=\"http://www.w3.org/2000/svg\" height=\"24px\" viewBox=\"0 -960 960 960\">\n",
              "    <path d=\"M120-120v-720h720v720H120Zm60-500h600v-160H180v160Zm220 220h160v-160H400v160Zm0 220h160v-160H400v160ZM180-400h160v-160H180v160Zm440 0h160v-160H620v160ZM180-180h160v-160H180v160Zm440 0h160v-160H620v160Z\"/>\n",
              "  </svg>\n",
              "    </button>\n",
              "\n",
              "  <style>\n",
              "    .colab-df-container {\n",
              "      display:flex;\n",
              "      gap: 12px;\n",
              "    }\n",
              "\n",
              "    .colab-df-convert {\n",
              "      background-color: #E8F0FE;\n",
              "      border: none;\n",
              "      border-radius: 50%;\n",
              "      cursor: pointer;\n",
              "      display: none;\n",
              "      fill: #1967D2;\n",
              "      height: 32px;\n",
              "      padding: 0 0 0 0;\n",
              "      width: 32px;\n",
              "    }\n",
              "\n",
              "    .colab-df-convert:hover {\n",
              "      background-color: #E2EBFA;\n",
              "      box-shadow: 0px 1px 2px rgba(60, 64, 67, 0.3), 0px 1px 3px 1px rgba(60, 64, 67, 0.15);\n",
              "      fill: #174EA6;\n",
              "    }\n",
              "\n",
              "    .colab-df-buttons div {\n",
              "      margin-bottom: 4px;\n",
              "    }\n",
              "\n",
              "    [theme=dark] .colab-df-convert {\n",
              "      background-color: #3B4455;\n",
              "      fill: #D2E3FC;\n",
              "    }\n",
              "\n",
              "    [theme=dark] .colab-df-convert:hover {\n",
              "      background-color: #434B5C;\n",
              "      box-shadow: 0px 1px 3px 1px rgba(0, 0, 0, 0.15);\n",
              "      filter: drop-shadow(0px 1px 2px rgba(0, 0, 0, 0.3));\n",
              "      fill: #FFFFFF;\n",
              "    }\n",
              "  </style>\n",
              "\n",
              "    <script>\n",
              "      const buttonEl =\n",
              "        document.querySelector('#df-5f792a3c-5b6e-4969-bcb1-3f6b09fb90b9 button.colab-df-convert');\n",
              "      buttonEl.style.display =\n",
              "        google.colab.kernel.accessAllowed ? 'block' : 'none';\n",
              "\n",
              "      async function convertToInteractive(key) {\n",
              "        const element = document.querySelector('#df-5f792a3c-5b6e-4969-bcb1-3f6b09fb90b9');\n",
              "        const dataTable =\n",
              "          await google.colab.kernel.invokeFunction('convertToInteractive',\n",
              "                                                    [key], {});\n",
              "        if (!dataTable) return;\n",
              "\n",
              "        const docLinkHtml = 'Like what you see? Visit the ' +\n",
              "          '<a target=\"_blank\" href=https://colab.research.google.com/notebooks/data_table.ipynb>data table notebook</a>'\n",
              "          + ' to learn more about interactive tables.';\n",
              "        element.innerHTML = '';\n",
              "        dataTable['output_type'] = 'display_data';\n",
              "        await google.colab.output.renderOutput(dataTable, element);\n",
              "        const docLink = document.createElement('div');\n",
              "        docLink.innerHTML = docLinkHtml;\n",
              "        element.appendChild(docLink);\n",
              "      }\n",
              "    </script>\n",
              "  </div>\n",
              "\n",
              "\n",
              "<div id=\"df-c466c1db-c28c-477a-93d6-b1a402b04462\">\n",
              "  <button class=\"colab-df-quickchart\" onclick=\"quickchart('df-c466c1db-c28c-477a-93d6-b1a402b04462')\"\n",
              "            title=\"Suggest charts\"\n",
              "            style=\"display:none;\">\n",
              "\n",
              "<svg xmlns=\"http://www.w3.org/2000/svg\" height=\"24px\"viewBox=\"0 0 24 24\"\n",
              "     width=\"24px\">\n",
              "    <g>\n",
              "        <path d=\"M19 3H5c-1.1 0-2 .9-2 2v14c0 1.1.9 2 2 2h14c1.1 0 2-.9 2-2V5c0-1.1-.9-2-2-2zM9 17H7v-7h2v7zm4 0h-2V7h2v10zm4 0h-2v-4h2v4z\"/>\n",
              "    </g>\n",
              "</svg>\n",
              "  </button>\n",
              "\n",
              "<style>\n",
              "  .colab-df-quickchart {\n",
              "      --bg-color: #E8F0FE;\n",
              "      --fill-color: #1967D2;\n",
              "      --hover-bg-color: #E2EBFA;\n",
              "      --hover-fill-color: #174EA6;\n",
              "      --disabled-fill-color: #AAA;\n",
              "      --disabled-bg-color: #DDD;\n",
              "  }\n",
              "\n",
              "  [theme=dark] .colab-df-quickchart {\n",
              "      --bg-color: #3B4455;\n",
              "      --fill-color: #D2E3FC;\n",
              "      --hover-bg-color: #434B5C;\n",
              "      --hover-fill-color: #FFFFFF;\n",
              "      --disabled-bg-color: #3B4455;\n",
              "      --disabled-fill-color: #666;\n",
              "  }\n",
              "\n",
              "  .colab-df-quickchart {\n",
              "    background-color: var(--bg-color);\n",
              "    border: none;\n",
              "    border-radius: 50%;\n",
              "    cursor: pointer;\n",
              "    display: none;\n",
              "    fill: var(--fill-color);\n",
              "    height: 32px;\n",
              "    padding: 0;\n",
              "    width: 32px;\n",
              "  }\n",
              "\n",
              "  .colab-df-quickchart:hover {\n",
              "    background-color: var(--hover-bg-color);\n",
              "    box-shadow: 0 1px 2px rgba(60, 64, 67, 0.3), 0 1px 3px 1px rgba(60, 64, 67, 0.15);\n",
              "    fill: var(--button-hover-fill-color);\n",
              "  }\n",
              "\n",
              "  .colab-df-quickchart-complete:disabled,\n",
              "  .colab-df-quickchart-complete:disabled:hover {\n",
              "    background-color: var(--disabled-bg-color);\n",
              "    fill: var(--disabled-fill-color);\n",
              "    box-shadow: none;\n",
              "  }\n",
              "\n",
              "  .colab-df-spinner {\n",
              "    border: 2px solid var(--fill-color);\n",
              "    border-color: transparent;\n",
              "    border-bottom-color: var(--fill-color);\n",
              "    animation:\n",
              "      spin 1s steps(1) infinite;\n",
              "  }\n",
              "\n",
              "  @keyframes spin {\n",
              "    0% {\n",
              "      border-color: transparent;\n",
              "      border-bottom-color: var(--fill-color);\n",
              "      border-left-color: var(--fill-color);\n",
              "    }\n",
              "    20% {\n",
              "      border-color: transparent;\n",
              "      border-left-color: var(--fill-color);\n",
              "      border-top-color: var(--fill-color);\n",
              "    }\n",
              "    30% {\n",
              "      border-color: transparent;\n",
              "      border-left-color: var(--fill-color);\n",
              "      border-top-color: var(--fill-color);\n",
              "      border-right-color: var(--fill-color);\n",
              "    }\n",
              "    40% {\n",
              "      border-color: transparent;\n",
              "      border-right-color: var(--fill-color);\n",
              "      border-top-color: var(--fill-color);\n",
              "    }\n",
              "    60% {\n",
              "      border-color: transparent;\n",
              "      border-right-color: var(--fill-color);\n",
              "    }\n",
              "    80% {\n",
              "      border-color: transparent;\n",
              "      border-right-color: var(--fill-color);\n",
              "      border-bottom-color: var(--fill-color);\n",
              "    }\n",
              "    90% {\n",
              "      border-color: transparent;\n",
              "      border-bottom-color: var(--fill-color);\n",
              "    }\n",
              "  }\n",
              "</style>\n",
              "\n",
              "  <script>\n",
              "    async function quickchart(key) {\n",
              "      const quickchartButtonEl =\n",
              "        document.querySelector('#' + key + ' button');\n",
              "      quickchartButtonEl.disabled = true;  // To prevent multiple clicks.\n",
              "      quickchartButtonEl.classList.add('colab-df-spinner');\n",
              "      try {\n",
              "        const charts = await google.colab.kernel.invokeFunction(\n",
              "            'suggestCharts', [key], {});\n",
              "      } catch (error) {\n",
              "        console.error('Error during call to suggestCharts:', error);\n",
              "      }\n",
              "      quickchartButtonEl.classList.remove('colab-df-spinner');\n",
              "      quickchartButtonEl.classList.add('colab-df-quickchart-complete');\n",
              "    }\n",
              "    (() => {\n",
              "      let quickchartButtonEl =\n",
              "        document.querySelector('#df-c466c1db-c28c-477a-93d6-b1a402b04462 button');\n",
              "      quickchartButtonEl.style.display =\n",
              "        google.colab.kernel.accessAllowed ? 'block' : 'none';\n",
              "    })();\n",
              "  </script>\n",
              "</div>\n",
              "\n",
              "    </div>\n",
              "  </div>\n"
            ],
            "application/vnd.google.colaboratory.intrinsic+json": {
              "type": "dataframe",
              "variable_name": "df",
              "summary": "{\n  \"name\": \"df\",\n  \"rows\": 920,\n  \"fields\": [\n    {\n      \"column\": \"Patient_ID\",\n      \"properties\": {\n        \"dtype\": \"category\",\n        \"num_unique_values\": 126,\n        \"samples\": [\n          \"103\",\n          \"177\",\n          \"151\"\n        ],\n        \"semantic_type\": \"\",\n        \"description\": \"\"\n      }\n    },\n    {\n      \"column\": \"File\",\n      \"properties\": {\n        \"dtype\": \"string\",\n        \"num_unique_values\": 920,\n        \"samples\": [\n          \"199_2b1_Ll_mc_LittC2SE.wav\",\n          \"205_2b4_Pl_mc_AKGC417L.wav\",\n          \"112_1p1_Pr_sc_Litt3200.wav\"\n        ],\n        \"semantic_type\": \"\",\n        \"description\": \"\"\n      }\n    },\n    {\n      \"column\": \"WAV_Path\",\n      \"properties\": {\n        \"dtype\": \"string\",\n        \"num_unique_values\": 920,\n        \"samples\": [\n          \"/content/drive/MyDrive/ICBHI_final_database/recordings_annotations/199_2b1_Ll_mc_LittC2SE.wav\",\n          \"/content/drive/MyDrive/ICBHI_final_database/recordings_annotations/205_2b4_Pl_mc_AKGC417L.wav\",\n          \"/content/drive/MyDrive/ICBHI_final_database/recordings_annotations/112_1p1_Pr_sc_Litt3200.wav\"\n        ],\n        \"semantic_type\": \"\",\n        \"description\": \"\"\n      }\n    },\n    {\n      \"column\": \"TXT_Path\",\n      \"properties\": {\n        \"dtype\": \"string\",\n        \"num_unique_values\": 920,\n        \"samples\": [\n          \"/content/drive/MyDrive/ICBHI_final_database/recordings_annotations/199_2b1_Ll_mc_LittC2SE.txt\",\n          \"/content/drive/MyDrive/ICBHI_final_database/recordings_annotations/205_2b4_Pl_mc_AKGC417L.txt\",\n          \"/content/drive/MyDrive/ICBHI_final_database/recordings_annotations/112_1p1_Pr_sc_Litt3200.txt\"\n        ],\n        \"semantic_type\": \"\",\n        \"description\": \"\"\n      }\n    },\n    {\n      \"column\": \"Diagnosis\",\n      \"properties\": {\n        \"dtype\": \"category\",\n        \"num_unique_values\": 8,\n        \"samples\": [\n          \"Healthy\",\n          \"Pneumonia\",\n          \"COPD\"\n        ],\n        \"semantic_type\": \"\",\n        \"description\": \"\"\n      }\n    },\n    {\n      \"column\": \"Crackles\",\n      \"properties\": {\n        \"dtype\": \"number\",\n        \"std\": 0,\n        \"min\": 0,\n        \"max\": 1,\n        \"num_unique_values\": 2,\n        \"samples\": [\n          1,\n          0\n        ],\n        \"semantic_type\": \"\",\n        \"description\": \"\"\n      }\n    },\n    {\n      \"column\": \"Wheezes\",\n      \"properties\": {\n        \"dtype\": \"number\",\n        \"std\": 0,\n        \"min\": 0,\n        \"max\": 1,\n        \"num_unique_values\": 2,\n        \"samples\": [\n          0,\n          1\n        ],\n        \"semantic_type\": \"\",\n        \"description\": \"\"\n      }\n    },\n    {\n      \"column\": \"Split\",\n      \"properties\": {\n        \"dtype\": \"category\",\n        \"num_unique_values\": 3,\n        \"samples\": [\n          \"test\",\n          \"train\"\n        ],\n        \"semantic_type\": \"\",\n        \"description\": \"\"\n      }\n    }\n  ]\n}"
            }
          },
          "metadata": {},
          "execution_count": 8
        }
      ]
    },
    {
      "cell_type": "markdown",
      "source": [
        "# **Step 8: Generate and Save Spectrograms**\n",
        "\n",
        "This step defines a helper function to generate both `.npy` and `.png` spectrograms from audio recordings.\n",
        "\n",
        "- The `generate_and_save_spectrogram()` function loads an audio file using `librosa`, computes its Short-Time Fourier Transform (STFT), and converts it into decibel scale.\n",
        "- The decibel spectrogram is normalized and saved as a `.npy` file — this will be used as input for model training.\n",
        "- A visual version of the spectrogram is also created and saved as a `.png` image for use in visualizations and Grad-CAM++ overlays.\n",
        "\n",
        "All generated files are stored in a folder called `spectrograms` inside the dataset root directory.\n"
      ],
      "metadata": {
        "id": "RbvXT338oZ5Z"
      }
    },
    {
      "cell_type": "code",
      "source": [
        "#Step 8\n",
        "import librosa.display\n",
        "import matplotlib.pyplot as plt\n",
        "import os\n",
        "import numpy as np\n",
        "\n",
        "# Create output folder\n",
        "output_dir = os.path.join(root_dir, \"spectrograms\")\n",
        "os.makedirs(output_dir, exist_ok=True)\n",
        "\n",
        "# Spectrogram helper\n",
        "def generate_and_save_spectrogram(wav_path, file_name, duration=3, n_fft=2048, hop_length=512):\n",
        "    y, sr = librosa.load(wav_path, sr=None, duration=duration)\n",
        "\n",
        "    # STFT + dB conversion\n",
        "    S = librosa.stft(y, n_fft=n_fft, hop_length=hop_length)\n",
        "    S_db = librosa.amplitude_to_db(np.abs(S), ref=np.max)\n",
        "\n",
        "    # Normalize for training (.npy)\n",
        "    S_db_norm = (S_db - np.min(S_db)) / (np.max(S_db) - np.min(S_db))\n",
        "\n",
        "    # Save .npy\n",
        "    npy_path = os.path.join(output_dir, file_name.replace(\".wav\", \".npy\"))\n",
        "    np.save(npy_path, S_db_norm)\n",
        "\n",
        "    # Save .png\n",
        "    png_path = os.path.join(output_dir, file_name.replace(\".wav\", \".png\"))\n",
        "    plt.figure(figsize=(10, 4))\n",
        "    librosa.display.specshow(S_db, sr=sr, hop_length=hop_length, x_axis='time', y_axis='log')\n",
        "    plt.axis('off')\n",
        "    plt.tight_layout()\n",
        "    plt.savefig(png_path, bbox_inches='tight', pad_inches=0)\n",
        "    plt.close()\n",
        "\n",
        "    return npy_path, png_path\n"
      ],
      "metadata": {
        "id": "6lYa8BwLvT59"
      },
      "execution_count": null,
      "outputs": []
    },
    {
      "cell_type": "markdown",
      "source": [
        "# **Step 9 : Batch Generate Spectrograms**\n",
        "\n",
        "This loop iterates over each row in the main DataFrame and generates spectrograms for each `.wav` file using the previously defined `generate_and_save_spectrogram()` function.\n",
        "\n",
        "- For each audio file, it checks if the corresponding `.npy` and `.png` spectrograms already exist. If they do, it skips regeneration and simply records the paths in the DataFrame.\n",
        "- If the spectrograms do not exist, it generates them and stores their paths (`Spectrogram_Array` and `Spectrogram_Image`) in new columns in the DataFrame.\n",
        "- Any errors during processing are caught and logged with a warning message.\n",
        "\n",
        "This step ensures that spectrograms are created once, stored efficiently, and reused for both training and visualization.\n"
      ],
      "metadata": {
        "id": "iwoeHCj7pRLo"
      }
    },
    {
      "cell_type": "code",
      "source": [
        "#Step 9\n",
        "for idx, row in tqdm(df.iterrows(), total=len(df)):\n",
        "    npy_path = os.path.join(output_dir, row['File'].replace('.wav', '.npy'))\n",
        "    png_path = os.path.join(output_dir, row['File'].replace('.wav', '.png'))\n",
        "\n",
        "    # Skip if both files already exist\n",
        "    if os.path.exists(npy_path) and os.path.exists(png_path):\n",
        "        df.at[idx, 'Spectrogram_Array'] = npy_path\n",
        "        df.at[idx, 'Spectrogram_Image'] = png_path\n",
        "        continue\n",
        "\n",
        "    try:\n",
        "        npy_path, png_path = generate_and_save_spectrogram(row['WAV_Path'], row['File'])\n",
        "        df.at[idx, 'Spectrogram_Array'] = npy_path\n",
        "        df.at[idx, 'Spectrogram_Image'] = png_path\n",
        "    except Exception as e:\n",
        "        print(f\"Failed to process {row['File']}: {e}\")\n"
      ],
      "metadata": {
        "colab": {
          "base_uri": "https://localhost:8080/"
        },
        "id": "uZuUXGQkvnaf",
        "outputId": "d9a83bc6-7e3b-4ea1-cca4-78e685c8d146"
      },
      "execution_count": null,
      "outputs": [
        {
          "output_type": "stream",
          "name": "stderr",
          "text": [
            "100%|██████████| 920/920 [00:05<00:00, 168.03it/s]\n"
          ]
        }
      ]
    },
    {
      "cell_type": "markdown",
      "source": [
        "# **Step 10: Save DataFrame with Spectrogram Paths**\n",
        "\n",
        "After generating spectrograms for all audio files, this step saves the updated DataFrame (`df`) as a `.pkl` file (`df_with_spectrograms.pkl`) in the project root directory.\n",
        "\n",
        "The saved DataFrame includes:\n",
        "- Original metadata (file paths, labels, split info, etc.)\n",
        "- New columns pointing to the saved `.npy` and `.png` spectrograms\n",
        "\n",
        "This serialized file can be loaded later to skip the entire preprocessing step and go straight into training or visualization.\n"
      ],
      "metadata": {
        "id": "ShQ3mHEup0_F"
      }
    },
    {
      "cell_type": "code",
      "source": [
        "#Step 10\n",
        "df.to_pickle(os.path.join(root_dir, \"df_with_spectrograms.pkl\"))\n",
        "print(\"Saved metadata with spectrogram paths.\")\n"
      ],
      "metadata": {
        "colab": {
          "base_uri": "https://localhost:8080/"
        },
        "id": "CAMLrazLGrtk",
        "outputId": "48b0bec3-61a8-4b92-e964-c11dd313e7ca"
      },
      "execution_count": null,
      "outputs": [
        {
          "output_type": "stream",
          "name": "stdout",
          "text": [
            "Saved metadata with spectrogram paths.\n"
          ]
        }
      ]
    },
    {
      "cell_type": "markdown",
      "source": [
        "# **Step 11: Filter Data, Encode Labels, and Visualize Distribution**\n",
        "\n",
        "This step prepares the dataset for model training by performing the following tasks:\n",
        "\n",
        "- **Filtering**: It removes any entries labeled as `'unknown'` in the `Split` column, keeping only those explicitly assigned to either the training or test set.\n",
        "\n",
        "- **Label Encoding**: Uses `LabelEncoder` from `sklearn` to convert diagnosis labels (strings) into numerical class IDs, which are required for training a classification model. The result is stored in a new column called `EncodedLabel`.\n",
        "\n",
        "- **Class Overview**: Prints the list of unique diagnosis classes in encoded form and stores the total number of classes for use in the model setup.\n",
        "\n",
        "- **Visualization**: A bar plot is generated to show the distribution of diagnosis labels across training and test sets. This helps verify that the classes are somewhat balanced and that the dataset split is reasonable.\n"
      ],
      "metadata": {
        "id": "cAf4kOU8qKf8"
      }
    },
    {
      "cell_type": "code",
      "source": [
        "#Step 11\n",
        "# Skip 'unknown' patients\n",
        "df = df[df['Split'].isin(['train', 'test'])].reset_index(drop=True)\n",
        "print(f\"Total valid samples after filtering: {df.shape[0]}\")\n",
        "\n",
        "# Encode labels\n",
        "from sklearn.preprocessing import LabelEncoder\n",
        "label_encoder = LabelEncoder()\n",
        "df['EncodedLabel'] = label_encoder.fit_transform(df['Diagnosis'].astype(str))\n",
        "\n",
        "# Show label mapping\n",
        "print(\"Encoded Classes:\", list(label_encoder.classes_))\n",
        "num_classes = len(label_encoder.classes_)\n",
        "\n",
        "# Visualize label distribution\n",
        "import seaborn as sns\n",
        "import matplotlib.pyplot as plt\n",
        "\n",
        "plt.figure(figsize=(10, 4))\n",
        "sns.countplot(x='EncodedLabel', hue='Split', data=df)\n",
        "plt.title(\"Diagnosis Label Distribution Across Train/Test Splits\")\n",
        "plt.xlabel(\"Encoded Diagnosis\")\n",
        "plt.ylabel(\"Sample Count\")\n",
        "plt.legend(title='Split')\n",
        "plt.grid(True)\n",
        "plt.tight_layout()\n",
        "plt.show()\n"
      ],
      "metadata": {
        "colab": {
          "base_uri": "https://localhost:8080/",
          "height": 442
        },
        "id": "NV4MFtO8IinB",
        "outputId": "aee18e59-678c-4a3b-e38c-229fa88ff67b"
      },
      "execution_count": null,
      "outputs": [
        {
          "output_type": "stream",
          "name": "stdout",
          "text": [
            "Total valid samples after filtering: 919\n",
            "Encoded Classes: ['Asthma', 'Bronchiectasis', 'Bronchiolitis', 'COPD', 'Healthy', 'LRTI', 'Pneumonia', 'URTI']\n"
          ]
        },
        {
          "output_type": "display_data",
          "data": {
            "text/plain": [
              "<Figure size 1000x400 with 1 Axes>"
            ],
            "image/png": "[encoded data removed]"
          },
          "metadata": {}
        }
      ]
    },
    {
      "cell_type": "markdown",
      "source": [
        "# **Step 12: Split into Train/Test Sets and Save**\n",
        "\n",
        "This step separates the full dataset into two DataFrames:\n",
        "- `train_df`: contains only samples marked as part of the training set\n",
        "- `test_df`: contains only samples marked for testing\n",
        "\n",
        "To support reproducibility and efficient reloading later, both splits are saved as `.pkl` (pickle) files:\n",
        "- `train_split.pkl`\n",
        "- `test_split.pkl`\n",
        "\n",
        "These files can be loaded in future sessions to skip reprocessing and directly begin model training or evaluation.\n"
      ],
      "metadata": {
        "id": "fr2qAQIsqxPE"
      }
    },
    {
      "cell_type": "code",
      "source": [
        "#Step 12\n",
        "# Split into train/test DataFrames\n",
        "train_df = df[df['Split'] == 'train'].reset_index(drop=True)\n",
        "test_df = df[df['Split'] == 'test'].reset_index(drop=True)\n",
        "\n",
        "# Save to .pkl for reproducibility\n",
        "train_split_path = os.path.join(root_dir, \"train_split.pkl\")\n",
        "test_split_path = os.path.join(root_dir, \"test_split.pkl\")\n",
        "\n",
        "train_df.to_pickle(train_split_path)\n",
        "test_df.to_pickle(test_split_path)\n",
        "\n",
        "print(f\"Train split saved to: {train_split_path}\")\n",
        "print(f\"Test split saved to: {test_split_path}\")\n"
      ],
      "metadata": {
        "colab": {
          "base_uri": "https://localhost:8080/"
        },
        "id": "DWtw6hAgIqI4",
        "outputId": "0c3ff68a-acdd-488c-cf7c-c8998590765d"
      },
      "execution_count": null,
      "outputs": [
        {
          "output_type": "stream",
          "name": "stdout",
          "text": [
            "Train split saved to: /content/drive/MyDrive/ICBHI_final_database/train_split.pkl\n",
            "Test split saved to: /content/drive/MyDrive/ICBHI_final_database/test_split.pkl\n"
          ]
        }
      ]
    },
    {
      "cell_type": "markdown",
      "source": [
        "# **Step 13: Reload Train and Test Split Data**\n",
        "\n",
        "This step reloads the previously saved `train_df` and `test_df` DataFrames from their `.pkl` files.  \n",
        "It ensures that the dataset splits are preserved across notebook sessions without needing to repeat earlier preprocessing steps.\n",
        "\n",
        "After loading, it prints the shapes of both datasets to confirm successful reloading.\n"
      ],
      "metadata": {
        "id": "ckuFxtVirQaR"
      }
    },
    {
      "cell_type": "code",
      "source": [
        "#Step 13\n",
        "# Reload split data\n",
        "train_df = pd.read_pickle(train_split_path)\n",
        "test_df = pd.read_pickle(test_split_path)\n",
        "\n",
        "print(f\"Reloaded: Train shape {train_df.shape}, Test shape {test_df.shape}\")\n"
      ],
      "metadata": {
        "colab": {
          "base_uri": "https://localhost:8080/"
        },
        "id": "se6-KU3dJ3T0",
        "outputId": "5a5856eb-abef-4f13-bfa9-4c27b658866e"
      },
      "execution_count": null,
      "outputs": [
        {
          "output_type": "stream",
          "name": "stdout",
          "text": [
            "Reloaded: Train shape (538, 11), Test shape (381, 11)\n"
          ]
        }
      ]
    },
    {
      "cell_type": "markdown",
      "source": [
        "# **Step 14: Filter Out Invalid Spectrograms**\n",
        "\n",
        "This step ensures data consistency by verifying the shape of each `.npy` spectrogram file.\n",
        "\n",
        "- It loops through both `train_df` and `test_df`, attempting to load each `.npy` file stored in the `Spectrogram_Array` column.\n",
        "- It checks whether the spectrogram has the expected number of frequency bins (`1025`). This shape is required by the model.\n",
        "- Only valid spectrograms with the correct shape are retained. Invalid or corrupt entries are skipped.\n",
        "\n",
        "The filtered DataFrames are then reset and their new sizes are printed. This step prevents shape mismatch errors during model training.\n"
      ],
      "metadata": {
        "id": "iPqQbxDXrZZ9"
      }
    },
    {
      "cell_type": "code",
      "source": [
        "#Step 14\n",
        "valid_indices = []\n",
        "\n",
        "for i in range(len(train_df)):\n",
        "    try:\n",
        "        spec = np.load(train_df.loc[i, 'Spectrogram_Array'])\n",
        "        if spec.shape[0] == 1025:  # Expected freq bins\n",
        "            valid_indices.append(i)\n",
        "    except:\n",
        "        continue\n",
        "\n",
        "train_df = train_df.loc[valid_indices].reset_index(drop=True)\n",
        "print(f\"Filtered train set: {len(train_df)} samples\")\n",
        "\n",
        "valid_indices = []\n",
        "for i in range(len(test_df)):\n",
        "    try:\n",
        "        spec = np.load(test_df.loc[i, 'Spectrogram_Array'])\n",
        "        if spec.shape[0] == 1025:\n",
        "            valid_indices.append(i)\n",
        "    except:\n",
        "        continue\n",
        "\n",
        "test_df = test_df.loc[valid_indices].reset_index(drop=True)\n",
        "print(f\"Filtered test set: {len(test_df)} samples\")\n"
      ],
      "metadata": {
        "colab": {
          "base_uri": "https://localhost:8080/"
        },
        "id": "bUH6sQo3Psdy",
        "outputId": "356b032d-71b7-41b9-d68b-5939cc08d03a"
      },
      "execution_count": null,
      "outputs": [
        {
          "output_type": "stream",
          "name": "stdout",
          "text": [
            "Filtered train set: 538 samples\n",
            "Filtered test set: 381 samples\n"
          ]
        }
      ]
    },
    {
      "cell_type": "markdown",
      "source": [
        "# **Step 15: Define Custom Dataset Class with Fixed Input Shape**\n",
        "\n",
        "This step defines a PyTorch `Dataset` class named `ICBHI_1D_CNN_Dataset` that handles loading and preparing spectrogram data for the model.\n",
        "\n",
        "Key features of the class:\n",
        "- Loads the `.npy` spectrogram file for each sample.\n",
        "- Ensures each spectrogram has a consistent shape of `[1025, 256]` by padding or truncating both frequency and time dimensions.\n",
        "- Handles missing or corrupt files by substituting a zero-filled placeholder.\n",
        "- Converts the spectrogram into a PyTorch tensor (`x`) and pairs it with its corresponding encoded label (`y`).\n",
        "\n",
        "This preprocessing guarantees that all model inputs are uniform in size, which is essential for batch training in neural networks.\n"
      ],
      "metadata": {
        "id": "BTK6stNNr2iT"
      }
    },
    {
      "cell_type": "code",
      "source": [
        "#Step 15\n",
        "# Dataset class that guarantees fixed shape [1025, 256]\n",
        "import torch\n",
        "from torch.utils.data import Dataset, DataLoader\n",
        "import numpy as np\n",
        "\n",
        "class ICBHI_1D_CNN_Dataset(Dataset):\n",
        "    def __init__(self, df_subset, max_len=256, expected_freq=1025):\n",
        "        self.data = df_subset.reset_index(drop=True)\n",
        "        self.max_len = max_len\n",
        "        self.expected_freq = expected_freq\n",
        "\n",
        "    def __len__(self):\n",
        "        return len(self.data)\n",
        "\n",
        "    def __getitem__(self, idx):\n",
        "        row = self.data.loc[idx]\n",
        "        try:\n",
        "            spectrogram = np.load(row['Spectrogram_Array'])  # [freq, time]\n",
        "        except:\n",
        "            spectrogram = np.zeros((self.expected_freq, self.max_len))\n",
        "\n",
        "        if len(spectrogram.shape) != 2:\n",
        "            spectrogram = np.zeros((self.expected_freq, self.max_len))\n",
        "\n",
        "        freq, time = spectrogram.shape\n",
        "\n",
        "        # Pad/truncate freq axis\n",
        "        if freq < self.expected_freq:\n",
        "            spectrogram = np.pad(spectrogram, ((0, self.expected_freq - freq), (0, 0)), mode='constant')\n",
        "        elif freq > self.expected_freq:\n",
        "            spectrogram = spectrogram[:self.expected_freq, :]\n",
        "\n",
        "        # Pad/truncate time axis\n",
        "        if time < self.max_len:\n",
        "            spectrogram = np.pad(spectrogram, ((0, 0), (0, self.max_len - time)), mode='constant')\n",
        "        elif time > self.max_len:\n",
        "            spectrogram = spectrogram[:, :self.max_len]\n",
        "\n",
        "        x = torch.tensor(spectrogram, dtype=torch.float32)\n",
        "        y = torch.tensor(row['EncodedLabel'], dtype=torch.long)\n",
        "        return x, y\n"
      ],
      "metadata": {
        "id": "H7sWPe_fN6kQ"
      },
      "execution_count": null,
      "outputs": []
    },
    {
      "cell_type": "markdown",
      "source": [
        "# **Step 16: Create Datasets and DataLoaders**\n",
        "\n",
        "This step creates the actual PyTorch dataset and dataloader objects used for model training and evaluation.\n",
        "\n",
        "- `train_ds` and `test_ds` are instances of the custom `ICBHI_1D_CNN_Dataset`, configured to return spectrograms of fixed shape `[1025, 256]`.\n",
        "- A quick check (`x0.shape`) confirms the shape of one sample from the training set.\n",
        "- `train_loader` and `test_loader` wrap the datasets into batches of 32 samples and enable iteration over them in training and testing loops.\n",
        "\n",
        "These DataLoaders are now ready to feed data efficiently to the model during training.\n"
      ],
      "metadata": {
        "id": "OPcw8LrVsGLe"
      }
    },
    {
      "cell_type": "code",
      "source": [
        "#Step 16\n",
        "# Build datasets and dataloaders\n",
        "train_ds = ICBHI_1D_CNN_Dataset(train_df, max_len=256)\n",
        "test_ds = ICBHI_1D_CNN_Dataset(test_df, max_len=256)\n",
        "\n",
        "# Quick sanity check\n",
        "x0, y0 = train_ds[0]\n",
        "print(\"Example shape:\", x0.shape)  # should be [1025, 256]\n",
        "\n",
        "train_loader = DataLoader(train_ds, batch_size=32, shuffle=True)\n",
        "test_loader = DataLoader(test_ds, batch_size=32)\n",
        "print(\"Dataloaders ready\")\n",
        "\n",
        "\n"
      ],
      "metadata": {
        "colab": {
          "base_uri": "https://localhost:8080/"
        },
        "id": "XxnE2hZqN-m2",
        "outputId": "c8cd2e3e-f410-4058-e231-3d2b9f8839f2"
      },
      "execution_count": null,
      "outputs": [
        {
          "output_type": "stream",
          "name": "stdout",
          "text": [
            "Example shape: torch.Size([1025, 256])\n",
            "Dataloaders ready\n"
          ]
        }
      ]
    },
    {
      "cell_type": "markdown",
      "source": [
        "# **Step 17: Define the ResNet1D Model**\n",
        "\n",
        "This block defines the architecture of a custom 1D Convolutional Neural Network based on residual connections (ResNet) to classify spectrogram inputs.\n",
        "\n",
        "- **ResidualBlock1D**: A building block that uses skip connections to allow gradients to flow more effectively through deeper layers.\n",
        "  - It applies two 1D convolution layers with batch normalization and optional downsampling.\n",
        "  - If input and output dimensions differ, a downsampling path ensures the shapes match before residual addition.\n",
        "\n",
        "- **ResNet1D**: The full model composed of three residual blocks:\n",
        "  - It increases channel depth across layers (32 → 64 → 128) while reducing temporal dimensions.\n",
        "  - An adaptive average pooling layer reduces the temporal dimension to 1.\n",
        "  - A fully connected (`Linear`) layer maps the final feature vector to the number of output classes.\n",
        "\n",
        "This model is well-suited for processing time-series features extracted from spectrograms.\n"
      ],
      "metadata": {
        "id": "yoxJR0GPsVag"
      }
    },
    {
      "cell_type": "code",
      "source": [
        "#Step 17\n",
        "# Define ResNet1D model\n",
        "import torch.nn as nn\n",
        "import torch.nn.functional as F\n",
        "\n",
        "class ResidualBlock1D(nn.Module):\n",
        "    def __init__(self, in_channels, out_channels, downsample=False):\n",
        "        super().__init__()\n",
        "        stride = 2 if downsample else 1\n",
        "        self.conv1 = nn.Conv1d(in_channels, out_channels, 3, stride=stride, padding=1)\n",
        "        self.bn1 = nn.BatchNorm1d(out_channels)\n",
        "        self.conv2 = nn.Conv1d(out_channels, out_channels, 3, padding=1)\n",
        "        self.bn2 = nn.BatchNorm1d(out_channels)\n",
        "        self.downsample = nn.Sequential(\n",
        "            nn.Conv1d(in_channels, out_channels, 1, stride=stride),\n",
        "            nn.BatchNorm1d(out_channels)\n",
        "        ) if downsample or in_channels != out_channels else nn.Identity()\n",
        "\n",
        "    def forward(self, x):\n",
        "        identity = self.downsample(x)\n",
        "        out = F.relu(self.bn1(self.conv1(x)))\n",
        "        out = self.bn2(self.conv2(out))\n",
        "        return F.relu(out + identity)\n",
        "\n",
        "class ResNet1D(nn.Module):\n",
        "    def __init__(self, in_channels, num_classes):\n",
        "        super().__init__()\n",
        "        self.layer1 = ResidualBlock1D(in_channels, 32)\n",
        "        self.layer2 = ResidualBlock1D(32, 64, downsample=True)\n",
        "        self.layer3 = ResidualBlock1D(64, 128, downsample=True)\n",
        "        self.pool = nn.AdaptiveAvgPool1d(1)\n",
        "        self.fc = nn.Linear(128, num_classes)\n",
        "\n",
        "    def forward(self, x):\n",
        "        x = self.layer1(x)\n",
        "        x = self.layer2(x)\n",
        "        x = self.layer3(x)\n",
        "        x = self.pool(x).squeeze(-1)\n",
        "        return self.fc(x)\n"
      ],
      "metadata": {
        "id": "CHrIjkdgS_hE"
      },
      "execution_count": null,
      "outputs": []
    },
    {
      "cell_type": "markdown",
      "source": [
        "# **Step 18: Train the ResNet1D Model**\n",
        "\n",
        "This block performs the training and evaluation loop for the `ResNet1D` model.\n",
        "\n",
        "- **Device Setup**: Automatically selects GPU (`cuda`) if available, otherwise falls back to CPU.\n",
        "- **Model Initialization**:\n",
        "  - The model is instantiated with the correct number of input channels and classes.\n",
        "  - Uses `CrossEntropyLoss` for multi-class classification.\n",
        "  - The `Adam` optimizer is used with a learning rate of 1e-3.\n",
        "\n",
        "- **Training Loop**:\n",
        "  - For each epoch (10 total), the model is trained on batches from the `train_loader`.\n",
        "  - Gradients are calculated, and weights are updated using backpropagation.\n",
        "\n",
        "- **Evaluation**:\n",
        "  - After each epoch, the model is evaluated on the test set.\n",
        "  - Predictions are compared to ground-truth labels using `accuracy_score` from `sklearn`.\n",
        "\n",
        "- **Output**: For each epoch, the loop prints the training loss and accuracy on the test set.\n",
        "\n",
        "This step trains the CNN to recognize lung sound patterns using time-frequency features from the spectrograms.\n"
      ],
      "metadata": {
        "id": "x4TqpYN7si8B"
      }
    },
    {
      "cell_type": "code",
      "source": [
        "#Step 18\n",
        "# Train the model\n",
        "from sklearn.metrics import accuracy_score\n",
        "\n",
        "device = torch.device(\"cuda\" if torch.cuda.is_available() else \"cpu\")\n",
        "num_classes = len(train_df['EncodedLabel'].unique())\n",
        "input_channels = x0.shape[0]\n",
        "\n",
        "model = ResNet1D(input_channels, num_classes).to(device)\n",
        "criterion = nn.CrossEntropyLoss()\n",
        "optimizer = torch.optim.Adam(model.parameters(), lr=1e-3)\n",
        "\n",
        "for epoch in range(10):\n",
        "    model.train()\n",
        "    total_loss = 0\n",
        "    for X, y in train_loader:\n",
        "        X, y = X.to(device), y.to(device)\n",
        "        optimizer.zero_grad()\n",
        "        logits = model(X)\n",
        "        loss = criterion(logits, y)\n",
        "        loss.backward()\n",
        "        optimizer.step()\n",
        "        total_loss += loss.item()\n",
        "\n",
        "    model.eval()\n",
        "    all_preds, all_labels = [], []\n",
        "    with torch.no_grad():\n",
        "        for X, y in test_loader:\n",
        "            X, y = X.to(device), y.to(device)\n",
        "            preds = torch.argmax(model(X), dim=1)\n",
        "            all_preds.extend(preds.cpu().numpy())\n",
        "            all_labels.extend(y.cpu().numpy())\n",
        "\n",
        "    acc = accuracy_score(all_labels, all_preds)\n",
        "    print(f\"Epoch {epoch+1} | Loss: {total_loss:.4f} | Accuracy: {acc:.4f}\")\n"
      ],
      "metadata": {
        "colab": {
          "base_uri": "https://localhost:8080/"
        },
        "id": "p4MrnfS-TDIg",
        "outputId": "6bd47872-cf2e-4585-f0a5-73c5986aa29a"
      },
      "execution_count": null,
      "outputs": [
        {
          "output_type": "stream",
          "name": "stdout",
          "text": [
            "Epoch 1 | Loss: 18.0313 | Accuracy: 0.9160\n",
            "Epoch 2 | Loss: 9.0692 | Accuracy: 0.9160\n",
            "Epoch 3 | Loss: 7.7011 | Accuracy: 0.9186\n",
            "Epoch 4 | Loss: 7.1977 | Accuracy: 0.9265\n",
            "Epoch 5 | Loss: 6.3472 | Accuracy: 0.9239\n",
            "Epoch 6 | Loss: 7.1477 | Accuracy: 0.7979\n",
            "Epoch 7 | Loss: 6.2567 | Accuracy: 0.8556\n",
            "Epoch 8 | Loss: 5.5197 | Accuracy: 0.9344\n",
            "Epoch 9 | Loss: 5.5352 | Accuracy: 0.9003\n",
            "Epoch 10 | Loss: 5.3143 | Accuracy: 0.9396\n"
          ]
        }
      ]
    },
    {
      "cell_type": "markdown",
      "source": [
        "# **Step 19: Save the Trained Model**\n",
        "\n",
        "After training is complete, this step saves the learned model weights to a file named `resnet1d_icbhi.pth`.\n",
        "\n",
        "- This file contains only the parameters (`state_dict`) of the trained `ResNet1D` model.\n",
        "- Saving the model allows for easy reuse later — for example, to reload the model for inference, evaluation, or Grad-CAM visualization without retraining.\n",
        "\n",
        "The file can be stored locally or uploaded to Google Drive for long-term access.\n"
      ],
      "metadata": {
        "id": "8XSBKMT7s0dA"
      }
    },
    {
      "cell_type": "code",
      "source": [
        "#Step 19\n",
        "torch.save(model.state_dict(), \"resnet1d_icbhi.pth\")\n"
      ],
      "metadata": {
        "id": "e0W9VN2bTk8K"
      },
      "execution_count": null,
      "outputs": []
    },
    {
      "cell_type": "markdown",
      "source": [
        "# **Step 20: Plot the Confusion Matrix**\n",
        "\n",
        "This step evaluates the model's classification performance using a confusion matrix.\n",
        "\n",
        "- It uses `confusion_matrix` from `sklearn.metrics` to compute a matrix comparing predicted vs. actual labels.\n",
        "- `ConfusionMatrixDisplay` is used to visualize the matrix as a heatmap with readable axis labels.\n",
        "- The matrix shows how well the model performs across each diagnosis class, helping to identify misclassifications or class imbalances.\n",
        "\n",
        "This visual diagnostic tool is especially useful for medical audio datasets, where distinguishing between conditions is critical.\n"
      ],
      "metadata": {
        "id": "FUrSRpY4s4F0"
      }
    },
    {
      "cell_type": "code",
      "source": [
        "#Step 20\n",
        "from sklearn.metrics import confusion_matrix, ConfusionMatrixDisplay\n",
        "import matplotlib.pyplot as plt\n",
        "\n",
        "cm = confusion_matrix(all_labels, all_preds)\n",
        "disp = ConfusionMatrixDisplay(confusion_matrix=cm)\n",
        "disp.plot(xticks_rotation=45, cmap='Blues')\n",
        "plt.title(\"Confusion Matrix\")\n",
        "plt.grid(False)\n",
        "plt.show()\n",
        "\n"
      ],
      "metadata": {
        "colab": {
          "base_uri": "https://localhost:8080/",
          "height": 474
        },
        "id": "zNjfmDjHTnw-",
        "outputId": "f451ad5d-3a80-4806-cab4-66992682eba9"
      },
      "execution_count": null,
      "outputs": [
        {
          "output_type": "display_data",
          "data": {
            "text/plain": [
              "<Figure size 640x480 with 2 Axes>"
            ],
            "image/png": "[encoded data removed]"
          },
          "metadata": {}
        }
      ]
    },
    {
      "cell_type": "markdown",
      "source": [
        "# **Step 21: Stratified K-Fold Cross-Validation**\n",
        "\n",
        "This step sets up 5-fold stratified cross-validation to assess the model’s robustness and generalizability.\n",
        "\n",
        "- `StratifiedKFold` ensures each fold maintains the original class distribution (important for imbalanced datasets like ICBHI).\n",
        "- The data is split into 5 train/validation partitions, and each fold is used once as a validation set while the rest form the training set.\n",
        "- For each fold:\n",
        "  - It creates a training and validation DataFrame.\n",
        "  - These are wrapped into PyTorch datasets and DataLoaders using the same `ICBHI_1D_CNN_Dataset` class.\n",
        "  - The model can then be trained on the training loader and evaluated on the validation loader.\n",
        "\n",
        "This setup helps ensure that model performance is not overly dependent on a single train/test split and gives a better estimate of real-world generalization.\n"
      ],
      "metadata": {
        "id": "vx5o91CutdoE"
      }
    },
    {
      "cell_type": "code",
      "source": [
        "#Step 21\n",
        "from sklearn.model_selection import StratifiedKFold\n",
        "\n",
        "skf = StratifiedKFold(n_splits=5, shuffle=True, random_state=42)\n",
        "X = train_df['Spectrogram_Array'].values\n",
        "y = train_df['EncodedLabel'].values\n",
        "\n",
        "for fold, (train_idx, val_idx) in enumerate(skf.split(X, y)):\n",
        "    print(f\"\\nFold {fold+1}\")\n",
        "\n",
        "    fold_train_df = train_df.iloc[train_idx].reset_index(drop=True)\n",
        "    fold_val_df = train_df.iloc[val_idx].reset_index(drop=True)\n",
        "\n",
        "    train_ds = ICBHI_1D_CNN_Dataset(fold_train_df)\n",
        "    val_ds = ICBHI_1D_CNN_Dataset(fold_val_df)\n",
        "\n",
        "    train_loader = DataLoader(train_ds, batch_size=32, shuffle=True)\n",
        "    val_loader = DataLoader(val_ds, batch_size=32)\n",
        "\n"
      ],
      "metadata": {
        "colab": {
          "base_uri": "https://localhost:8080/"
        },
        "id": "FzNhYs23Uecs",
        "outputId": "9b808bd6-77c1-49c4-c2b2-7572ac242a61"
      },
      "execution_count": null,
      "outputs": [
        {
          "output_type": "stream",
          "name": "stdout",
          "text": [
            "\n",
            "Fold 1\n",
            "\n",
            "Fold 2\n",
            "\n",
            "Fold 3\n",
            "\n",
            "Fold 4\n",
            "\n",
            "Fold 5\n"
          ]
        },
        {
          "output_type": "stream",
          "name": "stderr",
          "text": [
            "/usr/local/lib/python3.11/dist-packages/sklearn/model_selection/_split.py:805: UserWarning: The least populated class in y has only 1 members, which is less than n_splits=5.\n",
            "  warnings.warn(\n"
          ]
        }
      ]
    },
    {
      "cell_type": "markdown",
      "source": [
        "# **Step 22: Visualize Grad-CAM++ Activation for a Single Prediction**\n",
        "\n",
        "This step uses Grad-CAM++ to visualize which parts of the spectrogram the trained model focused on when making its prediction.\n",
        "\n",
        "- **Input Selection**: A sample input is taken from the training set and sent through the model (note: no `torch.no_grad()` here, as Grad-CAM++ requires gradients).\n",
        "- **Grad-CAM++ Setup**:\n",
        "  - `GradCAMpp` is initialized from the `torchcam` library.\n",
        "  - The method hooks into the model’s final residual layer (`layer3`) to extract feature importance.\n",
        "- **Prediction and Visualization**:\n",
        "  - The predicted class is obtained via `argmax`.\n",
        "  - An activation map is generated that highlights important time–frequency regions influencing the decision.\n",
        "  - The map is visualized using `matplotlib`, showing areas with the strongest influence (red = higher activation).\n",
        "\n",
        "This visualization helps interpret and validate how the model makes decisions — especially important in medical applications.\n"
      ],
      "metadata": {
        "id": "EY-gE5LPt_5y"
      }
    },
    {
      "cell_type": "code",
      "source": [
        "  #Step 22\n",
        "  # Get input\n",
        "  !pip install torchcam\n",
        "  input_tensor, label = train_ds[0]\n",
        "  input_tensor = input_tensor.unsqueeze(0).to(device)\n",
        "\n",
        "  # Grad-CAM++ setup\n",
        "  from torchcam.methods import GradCAMpp\n",
        "  cam_extractor = GradCAMpp(model, target_layer=\"layer3\")\n",
        "\n",
        "  # Forward pass (no torch.no_grad())\n",
        "  model.eval()\n",
        "  output = model(input_tensor)\n",
        "\n",
        "  # Get activation map\n",
        "  predicted_class = output.argmax(dim=1).item()\n",
        "  activation_map = cam_extractor(predicted_class, output)[0].cpu()\n",
        "\n",
        "  # Plot\n",
        "  import matplotlib.pyplot as plt\n",
        "  plt.figure(figsize=(12, 4))\n",
        "  plt.imshow(activation_map, aspect='auto', origin='lower', cmap='hot')\n",
        "  plt.colorbar(label=\"Activation Strength\")\n",
        "  plt.title(f\"Grad-CAM++ - Predicted Class: {predicted_class}\")\n",
        "  plt.xlabel(\"Time Axis\")\n",
        "  plt.ylabel(\"Frequency Channels\")\n",
        "  plt.tight_layout()\n",
        "  plt.show()\n"
      ],
      "metadata": {
        "colab": {
          "base_uri": "https://localhost:8080/",
          "height": 1000
        },
        "id": "fgcv5oTPUmfR",
        "outputId": "99d08df6-1ed7-4c29-a98a-c4b863ec86d2"
      },
      "execution_count": null,
      "outputs": [
        {
          "output_type": "stream",
          "name": "stdout",
          "text": [
            "Collecting torchcam\n",
            "  Downloading torchcam-0.4.0-py3-none-any.whl.metadata (31 kB)\n",
            "Requirement already satisfied: torch<3.0.0,>=2.0.0 in /usr/local/lib/python3.11/dist-packages (from torchcam) (2.6.0+cu124)\n",
            "Collecting numpy<2.0.0,>=1.17.2 (from torchcam)\n",
            "  Downloading numpy-1.26.4-cp311-cp311-manylinux_2_17_x86_64.manylinux2014_x86_64.whl.metadata (61 kB)\n",
            "\u001b[2K     \u001b[90m━━━━━━━━━━━━━━━━━━━━━━━━━━━━━━━━━━━━━━━━\u001b[0m \u001b[32m61.0/61.0 kB\u001b[0m \u001b[31m5.0 MB/s\u001b[0m eta \u001b[36m0:00:00\u001b[0m\n",
            "\u001b[?25hRequirement already satisfied: Pillow!=9.2.0,>=8.4.0 in /usr/local/lib/python3.11/dist-packages (from torchcam) (11.1.0)\n",
            "Requirement already satisfied: matplotlib<4.0.0,>=3.7.0 in /usr/local/lib/python3.11/dist-packages (from torchcam) (3.10.0)\n",
            "Requirement already satisfied: contourpy>=1.0.1 in /usr/local/lib/python3.11/dist-packages (from matplotlib<4.0.0,>=3.7.0->torchcam) (1.3.1)\n",
            "Requirement already satisfied: cycler>=0.10 in /usr/local/lib/python3.11/dist-packages (from matplotlib<4.0.0,>=3.7.0->torchcam) (0.12.1)\n",
            "Requirement already satisfied: fonttools>=4.22.0 in /usr/local/lib/python3.11/dist-packages (from matplotlib<4.0.0,>=3.7.0->torchcam) (4.57.0)\n",
            "Requirement already satisfied: kiwisolver>=1.3.1 in /usr/local/lib/python3.11/dist-packages (from matplotlib<4.0.0,>=3.7.0->torchcam) (1.4.8)\n",
            "Requirement already satisfied: packaging>=20.0 in /usr/local/lib/python3.11/dist-packages (from matplotlib<4.0.0,>=3.7.0->torchcam) (24.2)\n",
            "Requirement already satisfied: pyparsing>=2.3.1 in /usr/local/lib/python3.11/dist-packages (from matplotlib<4.0.0,>=3.7.0->torchcam) (3.2.3)\n",
            "Requirement already satisfied: python-dateutil>=2.7 in /usr/local/lib/python3.11/dist-packages (from matplotlib<4.0.0,>=3.7.0->torchcam) (2.8.2)\n",
            "Requirement already satisfied: filelock in /usr/local/lib/python3.11/dist-packages (from torch<3.0.0,>=2.0.0->torchcam) (3.18.0)\n",
            "Requirement already satisfied: typing-extensions>=4.10.0 in /usr/local/lib/python3.11/dist-packages (from torch<3.0.0,>=2.0.0->torchcam) (4.13.1)\n",
            "Requirement already satisfied: networkx in /usr/local/lib/python3.11/dist-packages (from torch<3.0.0,>=2.0.0->torchcam) (3.4.2)\n",
            "Requirement already satisfied: jinja2 in /usr/local/lib/python3.11/dist-packages (from torch<3.0.0,>=2.0.0->torchcam) (3.1.6)\n",
            "Requirement already satisfied: fsspec in /usr/local/lib/python3.11/dist-packages (from torch<3.0.0,>=2.0.0->torchcam) (2025.3.2)\n",
            "Collecting nvidia-cuda-nvrtc-cu12==12.4.127 (from torch<3.0.0,>=2.0.0->torchcam)\n",
            "  Downloading nvidia_cuda_nvrtc_cu12-12.4.127-py3-none-manylinux2014_x86_64.whl.metadata (1.5 kB)\n",
            "Collecting nvidia-cuda-runtime-cu12==12.4.127 (from torch<3.0.0,>=2.0.0->torchcam)\n",
            "  Downloading nvidia_cuda_runtime_cu12-12.4.127-py3-none-manylinux2014_x86_64.whl.metadata (1.5 kB)\n",
            "Collecting nvidia-cuda-cupti-cu12==12.4.127 (from torch<3.0.0,>=2.0.0->torchcam)\n",
            "  Downloading nvidia_cuda_cupti_cu12-12.4.127-py3-none-manylinux2014_x86_64.whl.metadata (1.6 kB)\n",
            "Collecting nvidia-cudnn-cu12==9.1.0.70 (from torch<3.0.0,>=2.0.0->torchcam)\n",
            "  Downloading nvidia_cudnn_cu12-9.1.0.70-py3-none-manylinux2014_x86_64.whl.metadata (1.6 kB)\n",
            "Collecting nvidia-cublas-cu12==12.4.5.8 (from torch<3.0.0,>=2.0.0->torchcam)\n",
            "  Downloading nvidia_cublas_cu12-12.4.5.8-py3-none-manylinux2014_x86_64.whl.metadata (1.5 kB)\n",
            "Collecting nvidia-cufft-cu12==11.2.1.3 (from torch<3.0.0,>=2.0.0->torchcam)\n",
            "  Downloading nvidia_cufft_cu12-11.2.1.3-py3-none-manylinux2014_x86_64.whl.metadata (1.5 kB)\n",
            "Collecting nvidia-curand-cu12==10.3.5.147 (from torch<3.0.0,>=2.0.0->torchcam)\n",
            "  Downloading nvidia_curand_cu12-10.3.5.147-py3-none-manylinux2014_x86_64.whl.metadata (1.5 kB)\n",
            "Collecting nvidia-cusolver-cu12==11.6.1.9 (from torch<3.0.0,>=2.0.0->torchcam)\n",
            "  Downloading nvidia_cusolver_cu12-11.6.1.9-py3-none-manylinux2014_x86_64.whl.metadata (1.6 kB)\n",
            "Collecting nvidia-cusparse-cu12==12.3.1.170 (from torch<3.0.0,>=2.0.0->torchcam)\n",
            "  Downloading nvidia_cusparse_cu12-12.3.1.170-py3-none-manylinux2014_x86_64.whl.metadata (1.6 kB)\n",
            "Requirement already satisfied: nvidia-cusparselt-cu12==0.6.2 in /usr/local/lib/python3.11/dist-packages (from torch<3.0.0,>=2.0.0->torchcam) (0.6.2)\n",
            "Requirement already satisfied: nvidia-nccl-cu12==2.21.5 in /usr/local/lib/python3.11/dist-packages (from torch<3.0.0,>=2.0.0->torchcam) (2.21.5)\n",
            "Requirement already satisfied: nvidia-nvtx-cu12==12.4.127 in /usr/local/lib/python3.11/dist-packages (from torch<3.0.0,>=2.0.0->torchcam) (12.4.127)\n",
            "Collecting nvidia-nvjitlink-cu12==12.4.127 (from torch<3.0.0,>=2.0.0->torchcam)\n",
            "  Downloading nvidia_nvjitlink_cu12-12.4.127-py3-none-manylinux2014_x86_64.whl.metadata (1.5 kB)\n",
            "Requirement already satisfied: triton==3.2.0 in /usr/local/lib/python3.11/dist-packages (from torch<3.0.0,>=2.0.0->torchcam) (3.2.0)\n",
            "Requirement already satisfied: sympy==1.13.1 in /usr/local/lib/python3.11/dist-packages (from torch<3.0.0,>=2.0.0->torchcam) (1.13.1)\n",
            "Requirement already satisfied: mpmath<1.4,>=1.1.0 in /usr/local/lib/python3.11/dist-packages (from sympy==1.13.1->torch<3.0.0,>=2.0.0->torchcam) (1.3.0)\n",
            "Requirement already satisfied: six>=1.5 in /usr/local/lib/python3.11/dist-packages (from python-dateutil>=2.7->matplotlib<4.0.0,>=3.7.0->torchcam) (1.17.0)\n",
            "Requirement already satisfied: MarkupSafe>=2.0 in /usr/local/lib/python3.11/dist-packages (from jinja2->torch<3.0.0,>=2.0.0->torchcam) (3.0.2)\n",
            "Downloading torchcam-0.4.0-py3-none-any.whl (46 kB)\n",
            "\u001b[2K   \u001b[90m━━━━━━━━━━━━━━━━━━━━━━━━━━━━━━━━━━━━━━━━\u001b[0m \u001b[32m46.0/46.0 kB\u001b[0m \u001b[31m4.2 MB/s\u001b[0m eta \u001b[36m0:00:00\u001b[0m\n",
            "\u001b[?25hDownloading numpy-1.26.4-cp311-cp311-manylinux_2_17_x86_64.manylinux2014_x86_64.whl (18.3 MB)\n",
            "\u001b[2K   \u001b[90m━━━━━━━━━━━━━━━━━━━━━━━━━━━━━━━━━━━━━━━━\u001b[0m \u001b[32m18.3/18.3 MB\u001b[0m \u001b[31m99.0 MB/s\u001b[0m eta \u001b[36m0:00:00\u001b[0m\n",
            "\u001b[?25hDownloading nvidia_cublas_cu12-12.4.5.8-py3-none-manylinux2014_x86_64.whl (363.4 MB)\n",
            "\u001b[2K   \u001b[90m━━━━━━━━━━━━━━━━━━━━━━━━━━━━━━━━━━━━━━━━\u001b[0m \u001b[32m363.4/363.4 MB\u001b[0m \u001b[31m1.4 MB/s\u001b[0m eta \u001b[36m0:00:00\u001b[0m\n",
            "\u001b[?25hDownloading nvidia_cuda_cupti_cu12-12.4.127-py3-none-manylinux2014_x86_64.whl (13.8 MB)\n",
            "\u001b[2K   \u001b[90m━━━━━━━━━━━━━━━━━━━━━━━━━━━━━━━━━━━━━━━━\u001b[0m \u001b[32m13.8/13.8 MB\u001b[0m \u001b[31m79.0 MB/s\u001b[0m eta \u001b[36m0:00:00\u001b[0m\n",
            "\u001b[?25hDownloading nvidia_cuda_nvrtc_cu12-12.4.127-py3-none-manylinux2014_x86_64.whl (24.6 MB)\n",
            "\u001b[2K   \u001b[90m━━━━━━━━━━━━━━━━━━━━━━━━━━━━━━━━━━━━━━━━\u001b[0m \u001b[32m24.6/24.6 MB\u001b[0m \u001b[31m58.6 MB/s\u001b[0m eta \u001b[36m0:00:00\u001b[0m\n",
            "\u001b[?25hDownloading nvidia_cuda_runtime_cu12-12.4.127-py3-none-manylinux2014_x86_64.whl (883 kB)\n",
            "\u001b[2K   \u001b[90m━━━━━━━━━━━━━━━━━━━━━━━━━━━━━━━━━━━━━━━━\u001b[0m \u001b[32m883.7/883.7 kB\u001b[0m \u001b[31m49.1 MB/s\u001b[0m eta \u001b[36m0:00:00\u001b[0m\n",
            "\u001b[?25hDownloading nvidia_cudnn_cu12-9.1.0.70-py3-none-manylinux2014_x86_64.whl (664.8 MB)\n",
            "\u001b[2K   \u001b[90m━━━━━━━━━━━━━━━━━━━━━━━━━━━━━━━━━━━━━━━━\u001b[0m \u001b[32m664.8/664.8 MB\u001b[0m \u001b[31m2.1 MB/s\u001b[0m eta \u001b[36m0:00:00\u001b[0m\n",
            "\u001b[?25hDownloading nvidia_cufft_cu12-11.2.1.3-py3-none-manylinux2014_x86_64.whl (211.5 MB)\n",
            "\u001b[2K   \u001b[90m━━━━━━━━━━━━━━━━━━━━━━━━━━━━━━━━━━━━━━━━\u001b[0m \u001b[32m211.5/211.5 MB\u001b[0m \u001b[31m6.2 MB/s\u001b[0m eta \u001b[36m0:00:00\u001b[0m\n",
            "\u001b[?25hDownloading nvidia_curand_cu12-10.3.5.147-py3-none-manylinux2014_x86_64.whl (56.3 MB)\n",
            "\u001b[2K   \u001b[90m━━━━━━━━━━━━━━━━━━━━━━━━━━━━━━━━━━━━━━━━\u001b[0m \u001b[32m56.3/56.3 MB\u001b[0m \u001b[31m14.5 MB/s\u001b[0m eta \u001b[36m0:00:00\u001b[0m\n",
            "\u001b[?25hDownloading nvidia_cusolver_cu12-11.6.1.9-py3-none-manylinux2014_x86_64.whl (127.9 MB)\n",
            "\u001b[2K   \u001b[90m━━━━━━━━━━━━━━━━━━━━━━━━━━━━━━━━━━━━━━━━\u001b[0m \u001b[32m127.9/127.9 MB\u001b[0m \u001b[31m7.7 MB/s\u001b[0m eta \u001b[36m0:00:00\u001b[0m\n",
            "\u001b[?25hDownloading nvidia_cusparse_cu12-12.3.1.170-py3-none-manylinux2014_x86_64.whl (207.5 MB)\n",
            "\u001b[2K   \u001b[90m━━━━━━━━━━━━━━━━━━━━━━━━━━━━━━━━━━━━━━━━\u001b[0m \u001b[32m207.5/207.5 MB\u001b[0m \u001b[31m6.1 MB/s\u001b[0m eta \u001b[36m0:00:00\u001b[0m\n",
            "\u001b[?25hDownloading nvidia_nvjitlink_cu12-12.4.127-py3-none-manylinux2014_x86_64.whl (21.1 MB)\n",
            "\u001b[2K   \u001b[90m━━━━━━━━━━━━━━━━━━━━━━━━━━━━━━━━━━━━━━━━\u001b[0m \u001b[32m21.1/21.1 MB\u001b[0m \u001b[31m88.4 MB/s\u001b[0m eta \u001b[36m0:00:00\u001b[0m\n",
            "\u001b[?25hInstalling collected packages: nvidia-nvjitlink-cu12, nvidia-curand-cu12, nvidia-cufft-cu12, nvidia-cuda-runtime-cu12, nvidia-cuda-nvrtc-cu12, nvidia-cuda-cupti-cu12, nvidia-cublas-cu12, numpy, nvidia-cusparse-cu12, nvidia-cudnn-cu12, nvidia-cusolver-cu12, torchcam\n",
            "  Attempting uninstall: nvidia-nvjitlink-cu12\n",
            "    Found existing installation: nvidia-nvjitlink-cu12 12.5.82\n",
            "    Uninstalling nvidia-nvjitlink-cu12-12.5.82:\n",
            "      Successfully uninstalled nvidia-nvjitlink-cu12-12.5.82\n",
            "  Attempting uninstall: nvidia-curand-cu12\n",
            "    Found existing installation: nvidia-curand-cu12 10.3.6.82\n",
            "    Uninstalling nvidia-curand-cu12-10.3.6.82:\n",
            "      Successfully uninstalled nvidia-curand-cu12-10.3.6.82\n",
            "  Attempting uninstall: nvidia-cufft-cu12\n",
            "    Found existing installation: nvidia-cufft-cu12 11.2.3.61\n",
            "    Uninstalling nvidia-cufft-cu12-11.2.3.61:\n",
            "      Successfully uninstalled nvidia-cufft-cu12-11.2.3.61\n",
            "  Attempting uninstall: nvidia-cuda-runtime-cu12\n",
            "    Found existing installation: nvidia-cuda-runtime-cu12 12.5.82\n",
            "    Uninstalling nvidia-cuda-runtime-cu12-12.5.82:\n",
            "      Successfully uninstalled nvidia-cuda-runtime-cu12-12.5.82\n",
            "  Attempting uninstall: nvidia-cuda-nvrtc-cu12\n",
            "    Found existing installation: nvidia-cuda-nvrtc-cu12 12.5.82\n",
            "    Uninstalling nvidia-cuda-nvrtc-cu12-12.5.82:\n",
            "      Successfully uninstalled nvidia-cuda-nvrtc-cu12-12.5.82\n",
            "  Attempting uninstall: nvidia-cuda-cupti-cu12\n",
            "    Found existing installation: nvidia-cuda-cupti-cu12 12.5.82\n",
            "    Uninstalling nvidia-cuda-cupti-cu12-12.5.82:\n",
            "      Successfully uninstalled nvidia-cuda-cupti-cu12-12.5.82\n",
            "  Attempting uninstall: nvidia-cublas-cu12\n",
            "    Found existing installation: nvidia-cublas-cu12 12.5.3.2\n",
            "    Uninstalling nvidia-cublas-cu12-12.5.3.2:\n",
            "      Successfully uninstalled nvidia-cublas-cu12-12.5.3.2\n",
            "  Attempting uninstall: numpy\n",
            "    Found existing installation: numpy 2.0.2\n",
            "    Uninstalling numpy-2.0.2:\n",
            "      Successfully uninstalled numpy-2.0.2\n",
            "  Attempting uninstall: nvidia-cusparse-cu12\n",
            "    Found existing installation: nvidia-cusparse-cu12 12.5.1.3\n",
            "    Uninstalling nvidia-cusparse-cu12-12.5.1.3:\n",
            "      Successfully uninstalled nvidia-cusparse-cu12-12.5.1.3\n",
            "  Attempting uninstall: nvidia-cudnn-cu12\n",
            "    Found existing installation: nvidia-cudnn-cu12 9.3.0.75\n",
            "    Uninstalling nvidia-cudnn-cu12-9.3.0.75:\n",
            "      Successfully uninstalled nvidia-cudnn-cu12-9.3.0.75\n",
            "  Attempting uninstall: nvidia-cusolver-cu12\n",
            "    Found existing installation: nvidia-cusolver-cu12 11.6.3.83\n",
            "    Uninstalling nvidia-cusolver-cu12-11.6.3.83:\n",
            "      Successfully uninstalled nvidia-cusolver-cu12-11.6.3.83\n",
            "\u001b[31mERROR: pip's dependency resolver does not currently take into account all the packages that are installed. This behaviour is the source of the following dependency conflicts.\n",
            "thinc 8.3.6 requires numpy<3.0.0,>=2.0.0, but you have numpy 1.26.4 which is incompatible.\u001b[0m\u001b[31m\n",
            "\u001b[0mSuccessfully installed numpy-1.26.4 nvidia-cublas-cu12-12.4.5.8 nvidia-cuda-cupti-cu12-12.4.127 nvidia-cuda-nvrtc-cu12-12.4.127 nvidia-cuda-runtime-cu12-12.4.127 nvidia-cudnn-cu12-9.1.0.70 nvidia-cufft-cu12-11.2.1.3 nvidia-curand-cu12-10.3.5.147 nvidia-cusolver-cu12-11.6.1.9 nvidia-cusparse-cu12-12.3.1.170 nvidia-nvjitlink-cu12-12.4.127 torchcam-0.4.0\n"
          ]
        },
        {
          "output_type": "display_data",
          "data": {
            "text/plain": [
              "<Figure size 1200x400 with 2 Axes>"
            ],
            "image/png": "[encoded data removed]"
          },
          "metadata": {}
        }
      ]
    },
    {
      "cell_type": "markdown",
      "source": [
        "# **Step 23: Batch Grad-CAM++ Overlays with Spectrograms**\n",
        "\n",
        "This step generates and saves Grad-CAM++ activation overlays for multiple training samples, helping visualize what the model focuses on across different predictions.\n",
        "\n",
        "- **Directory Setup**: A new folder (`gradcam_outputs`) is created to store the output `.png` files.\n",
        "- **Grad-CAM++ Activation**:\n",
        "  - The `GradCAMpp` method is used to extract class-discriminative activation maps from the final convolutional layer of the model.\n",
        "- **Visualization Loop**:\n",
        "  - For each sample:\n",
        "    - The model makes a prediction.\n",
        "    - The Grad-CAM++ heatmap is generated for the predicted class.\n",
        "    - The heatmap is resized and overlaid on the original spectrogram.\n",
        "    - The figure is saved as a `.png` file with its predicted and true class labels in the filename.\n",
        "\n",
        "This provides an interpretable, visual explanation of the model’s decisions for several training samples.\n"
      ],
      "metadata": {
        "id": "uUmxs1AEuS6v"
      }
    },
    {
      "cell_type": "code",
      "source": [
        "#step 23\n",
        "import os\n",
        "import numpy as np\n",
        "import matplotlib.pyplot as plt\n",
        "import torch\n",
        "from torchcam.methods import GradCAMpp\n",
        "\n",
        "# Create directory to save Grad-CAM++ visual outputs\n",
        "save_dir = \"gradcam_outputs\"\n",
        "os.makedirs(save_dir, exist_ok=True)\n",
        "\n",
        "# Set up Grad-CAM++ extractor on the final conv layer\n",
        "cam_extractor = GradCAMpp(model, target_layer=\"layer3\")\n",
        "model.eval()\n",
        "\n",
        "# Loop over first N samples from the dataset\n",
        "N = 5  # Change this to however many samples you want\n",
        "for idx in range(N):\n",
        "    # Load one sample\n",
        "    input_tensor, label = train_ds[idx]\n",
        "    input_tensor = input_tensor.unsqueeze(0).to(device)  # Add batch dim\n",
        "\n",
        "    # Forward pass\n",
        "    output = model(input_tensor)\n",
        "\n",
        "    # Predicted class\n",
        "    predicted_class = output.argmax(dim=1).item()\n",
        "\n",
        "    # Get activation map\n",
        "    activation_map = cam_extractor(predicted_class, output)[0].cpu().numpy()\n",
        "\n",
        "    # Original spectrogram\n",
        "    original_spec = input_tensor.squeeze(0).cpu().numpy()\n",
        "\n",
        "    # Normalize activation map\n",
        "    act_resized = np.interp(activation_map, (activation_map.min(), activation_map.max()), (0, 1))\n",
        "\n",
        "    # Plot: Overlay CAM on spectrogram\n",
        "    plt.figure(figsize=(12, 4))\n",
        "    plt.imshow(original_spec, aspect='auto', origin='lower', cmap='gray')\n",
        "    plt.imshow(act_resized, aspect='auto', origin='lower', cmap='hot', alpha=0.4)\n",
        "    plt.colorbar(label=\"Activation Strength\")\n",
        "    plt.title(f\"Grad-CAM++ Overlay | Pred: {predicted_class} | True: {label}\")\n",
        "    plt.xlabel(\"Time Axis\")\n",
        "    plt.ylabel(\"Frequency Channels\")\n",
        "    plt.tight_layout()\n",
        "\n",
        "    # Save the figure\n",
        "    out_path = os.path.join(save_dir, f\"gradcam_{idx}_pred{predicted_class}_true{label}.png\")\n",
        "    plt.savefig(out_path)\n",
        "    plt.close()\n",
        "\n",
        "print(f\"Saved Grad-CAM++ overlays for {N} samples to: {save_dir}\")\n"
      ],
      "metadata": {
        "colab": {
          "base_uri": "https://localhost:8080/"
        },
        "id": "4D4cGGXiXLBA",
        "outputId": "36ab6d38-90c1-4665-def8-5fd890e1d54f"
      },
      "execution_count": null,
      "outputs": [
        {
          "output_type": "stream",
          "name": "stdout",
          "text": [
            "Saved Grad-CAM++ overlays for 5 samples to: gradcam_outputs\n"
          ]
        }
      ]
    },
    {
      "cell_type": "markdown",
      "source": [
        "# **Step 24: Save Side-by-Side Grad-CAM++ Comparisons for Correct vs. Incorrect Predictions**\n",
        "\n",
        "This block automates the generation of Grad-CAM++ overlays for model predictions and saves them into separate folders based on prediction correctness.\n",
        "\n",
        "- **Grad-CAM++ Setup**: A `GradCAMpp` extractor is created on the final residual layer of the model.\n",
        "- **Folder Management**:\n",
        "  - `gradcam_correct/`: stores overlays where the predicted class matches the true label.\n",
        "  - `gradcam_incorrect/`: stores overlays where the model predicted the wrong class.\n",
        "- **Visualization Process**:\n",
        "  - Loads the `.png` spectrogram image for each training sample.\n",
        "  - Extracts the attention map and resizes it to match the original spectrogram.\n",
        "  - Creates a heatmap and blends it with the original image to highlight important regions.\n",
        "  - Saves a side-by-side visualization (original vs. overlay) to the appropriate folder.\n",
        "\n",
        "- **Drive Integration**:\n",
        "  - All overlays are saved to a designated Google Drive folder (`/content/drive/MyDrive/ICBHI_GradCAM`).\n",
        "  - The folders for correct and incorrect predictions are zipped and saved in Drive for download or sharing.\n",
        "\n",
        "This step adds powerful interpretability to the model by visually showing where it’s focusing for both successful and failed predictions.\n"
      ],
      "metadata": {
        "id": "Y8kqlkPaumdH"
      }
    },
    {
      "cell_type": "code",
      "source": [
        "#Step 24\n",
        "import os\n",
        "import numpy as np\n",
        "import matplotlib.pyplot as plt\n",
        "import torch\n",
        "from torchcam.methods import GradCAMpp\n",
        "from PIL import Image\n",
        "\n",
        "# Grad-CAM++ setup\n",
        "cam_extractor = GradCAMpp(model, target_layer=\"layer3\")\n",
        "model.eval()\n",
        "\n",
        "# Output folders\n",
        "correct_dir = \"gradcam_correct\"\n",
        "incorrect_dir = \"gradcam_incorrect\"\n",
        "os.makedirs(correct_dir, exist_ok=True)\n",
        "os.makedirs(incorrect_dir, exist_ok=True)\n",
        "\n",
        "# Loop through training set\n",
        "N = 20  # You can increase this\n",
        "for idx in range(N):\n",
        "    # Load spectrogram from Dataset\n",
        "    input_tensor, label = train_ds[idx]\n",
        "    input_tensor = input_tensor.unsqueeze(0).to(device)\n",
        "\n",
        "    # Predict and extract attention\n",
        "    output = model(input_tensor)\n",
        "    pred_class = output.argmax(dim=1).item()\n",
        "    activation_map = cam_extractor(pred_class, output)[0].cpu().numpy()\n",
        "\n",
        "    # Locate corresponding PNG file\n",
        "    npy_path = train_df.loc[idx, 'Spectrogram_Array']\n",
        "    png_path = npy_path.replace(\".npy\", \".png\")\n",
        "    if not os.path.exists(png_path):\n",
        "        print(f\"Missing PNG: {png_path}\")\n",
        "        continue\n",
        "\n",
        "    # Load image and overlay attention\n",
        "    spec_img = Image.open(png_path).convert(\"RGB\")\n",
        "    spec_array = np.array(spec_img)\n",
        "\n",
        "    # Normalize and resize activation map\n",
        "    activation_map_resized = np.interp(activation_map, (activation_map.min(), activation_map.max()), (0, 1))\n",
        "    heatmap = plt.cm.jet(activation_map_resized)[:, :, :3]  # RGB colormap\n",
        "    heatmap_img = Image.fromarray(np.uint8(heatmap * 255)).resize(spec_img.size)\n",
        "\n",
        "    # Blend with original\n",
        "    overlay = Image.blend(spec_img, heatmap_img, alpha=0.5)\n",
        "\n",
        "    # Side-by-side comparison\n",
        "    fig, axs = plt.subplots(1, 2, figsize=(14, 5))\n",
        "    axs[0].imshow(spec_img)\n",
        "    axs[0].set_title(\"Original Spectrogram\")\n",
        "    axs[0].axis(\"off\")\n",
        "\n",
        "    axs[1].imshow(overlay)\n",
        "    axs[1].set_title(f\"Grad-CAM++ Overlay | Pred: {pred_class} | True: {label}\")\n",
        "    axs[1].axis(\"off\")\n",
        "\n",
        "    # Save to correct/incorrect folders\n",
        "    plt.tight_layout()\n",
        "    folder = correct_dir if pred_class == label else incorrect_dir\n",
        "    out_path = os.path.join(folder, f\"cam_{idx}_pred{pred_class}_true{label}.png\")\n",
        "    plt.savefig(out_path)\n",
        "    plt.close()\n",
        "\n",
        "print(f\"All Grad-CAM++ overlays saved to '{correct_dir}' and '{incorrect_dir}'\")\n",
        "# Google Drive path (change this to any folder you want inside your Drive)\n",
        "base_dir = \"/content/drive/MyDrive/ICBHI_GradCAM\"\n",
        "\n",
        "correct_dir = os.path.join(base_dir, \"gradcam_correct\")\n",
        "incorrect_dir = os.path.join(base_dir, \"gradcam_incorrect\")\n",
        "\n",
        "os.makedirs(correct_dir, exist_ok=True)\n",
        "os.makedirs(incorrect_dir, exist_ok=True)\n",
        "!zip -r /content/drive/MyDrive/ICBHI_GradCAM_correct.zip /content/drive/MyDrive/ICBHI_GradCAM/gradcam_correct\n",
        "!zip -r /content/drive/MyDrive/ICBHI_GradCAM_incorrect.zip /content/drive/MyDrive/ICBHI_GradCAM/gradcam_incorrect\n"
      ],
      "metadata": {
        "colab": {
          "base_uri": "https://localhost:8080/"
        },
        "id": "rSbFyks4aOHY",
        "outputId": "38407a27-e289-45b7-a8cf-bcf46477c2a2"
      },
      "execution_count": null,
      "outputs": [
        {
          "output_type": "stream",
          "name": "stdout",
          "text": [
            "All Grad-CAM++ overlays saved to 'gradcam_correct' and 'gradcam_incorrect'\n",
            "updating: content/drive/MyDrive/ICBHI_GradCAM/gradcam_correct/ (stored 0%)\n",
            "updating: content/drive/MyDrive/ICBHI_GradCAM/gradcam_incorrect/ (stored 0%)\n"
          ]
        }
      ]
    }
  ]
}