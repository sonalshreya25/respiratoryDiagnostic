{
  "nbformat": 4,
  "nbformat_minor": 0,
  "metadata": {
    "colab": {
      "provenance": [],
      "gpuType": "T4",
      "include_colab_link": true
    },
    "kernelspec": {
      "name": "python3",
      "display_name": "Python 3"
    },
    "language_info": {
      "name": "python"
    },
    "accelerator": "GPU"
  },
  "cells": [
    {
      "cell_type": "markdown",
      "metadata": {
        "id": "view-in-github",
        "colab_type": "text"
      },
      "source": [
        "<a href=\"https://colab.research.google.com/github/sonalshreya25/respiratoryDiagnostic/blob/dev/RespiratoryDiagnosis.ipynb\" target=\"_parent\"><img src=\"https://colab.research.google.com/assets/colab-badge.svg\" alt=\"Open In Colab\"/></a>"
      ]
    },
    {
      "cell_type": "markdown",
      "source": [
        "# **Step 1: Mount Google Drive**\n",
        "\n",
        "This code mounts my Google Drive into the Colab environment so I can read and write files directly — including loading audio data, saving spectrograms, and storing Grad-CAM visualizations.\n",
        "\n",
        "Once I run this cell, I’ll be prompted to authenticate with my Google account. After authentication, my Drive becomes available at the path `/content/drive/`.\n"
      ],
      "metadata": {
        "id": "wY4H41Wol44e"
      }
    },
    {
      "cell_type": "code",
      "execution_count": 6,
      "metadata": {
        "colab": {
          "base_uri": "https://localhost:8080/"
        },
        "id": "0xNFdW92uMOY",
        "outputId": "c5c561f3-c3b0-4740-c0b0-3c7d9e1b5ea5"
      },
      "outputs": [
        {
          "output_type": "stream",
          "name": "stdout",
          "text": [
            "Mounted at /content/drive\n"
          ]
        }
      ],
      "source": [
        "from google.colab import drive\n",
        "drive.mount('/content/drive',force_remount=True)\n"
      ]
    },
    {
      "cell_type": "markdown",
      "source": [
        "# **Step 2: Set Paths**\n",
        "\n",
        "This block imports the required Python libraries for file handling, data processing, audio loading, and visualization.\n",
        "\n",
        "It also defines paths to important files and folders located in Google Drive, including:\n",
        "- `root_dir`: the base directory of the ICBHI dataset\n",
        "- `audio_dir`: folder containing the `.wav` recordings and annotation files\n",
        "- `diagnosis_file`: contains patient IDs and their diagnosis labels\n",
        "- `train_patients_file` and `test_patients_file`: define which patients belong to the training and testing sets\n",
        "- `train_test_file`: contains train/test split information at the recording level\n",
        "- `events_folder`: includes event-level annotations (e.g., wheezes and crackles)\n"
      ],
      "metadata": {
        "id": "D6E8Hq68mlYR"
      }
    },
    {
      "cell_type": "code",
      "source": [
        "# STEP 2: Set Paths\n",
        "import os\n",
        "import pandas as pd\n",
        "from glob import glob\n",
        "import librosa\n",
        "import numpy as np\n",
        "from tqdm import tqdm\n",
        "import matplotlib.pyplot as plt\n",
        "\n",
        "# Change this to your Google Drive path\n",
        "root_dir = \"/content/drive/MyDrive/ICBHI_final_database\"\n",
        "audio_dir = os.path.join(root_dir, \"recordings_annotations\")\n",
        "diagnosis_file = os.path.join(root_dir, \"diagnosis_data.txt\")\n",
        "train_patients_file = os.path.join(root_dir, \"train_data.txt\")\n",
        "test_patients_file = os.path.join(root_dir, \"test_data.txt\")\n",
        "train_test_file = os.path.join(root_dir, \"train_test_data.txt\")\n",
        "events_folder = os.path.join(root_dir, \"events/events\")\n"
      ],
      "metadata": {
        "id": "xmJvxazpueMX"
      },
      "execution_count": 7,
      "outputs": []
    },
    {
      "cell_type": "code",
      "source": [
        "import wandb\n",
        "import torch\n",
        "import torch.nn as nn\n",
        "import torch.optim as optim\n",
        "import torchvision\n",
        "import torchvision.transforms as transforms\n",
        "import torchvision.models as models\n",
        "import matplotlib.pyplot as plt\n",
        "import numpy as np\n",
        "\n",
        "\n",
        "# Checking for GPU availability\n",
        "device = torch.device(\"cuda:0\" if torch.cuda.is_available() else \"cpu\")\n",
        "print(f\"Using device: {device}\")\n",
        "\n",
        "# Setting seed for repeatability\n",
        "seed = 42\n",
        "np.random.seed(seed)\n",
        "torch.manual_seed(seed)\n",
        "if torch.cuda.is_available():\n",
        "    torch.cuda.manual_seed(seed)\n",
        "    torch.cuda.manual_seed_all(seed)\n",
        "\n",
        "    # Ensuring deterministic behavior for CUDA operations\n",
        "    torch.backends.cudnn.deterministic = True\n",
        "    torch.backends.cudnn.benchmark = False"
      ],
      "metadata": {
        "colab": {
          "base_uri": "https://localhost:8080/"
        },
        "id": "pm6GQefyBOVe",
        "outputId": "a25c5cc8-a27b-4bf4-ab44-11a7f6496952"
      },
      "execution_count": 9,
      "outputs": [
        {
          "output_type": "stream",
          "name": "stdout",
          "text": [
            "Using device: cuda:0\n"
          ]
        }
      ]
    },
    {
      "cell_type": "code",
      "source": [
        "# Initializing Weights & Biases\n",
        "wandb.init(entity=\"usf-alpha-neurons\",project=\"respiratory_diagnosis\")"
      ],
      "metadata": {
        "colab": {
          "base_uri": "https://localhost:8080/",
          "height": 306
        },
        "id": "VPwaYU_WBbjM",
        "outputId": "959dde45-d1a7-475d-aa65-3fe1db38b2be"
      },
      "execution_count": 10,
      "outputs": [
        {
          "output_type": "stream",
          "name": "stderr",
          "text": [
            "\u001b[34m\u001b[1mwandb\u001b[0m: Using wandb-core as the SDK backend.  Please refer to https://wandb.me/wandb-core for more information.\n"
          ]
        },
        {
          "output_type": "display_data",
          "data": {
            "text/plain": [
              "<IPython.core.display.Javascript object>"
            ],
            "application/javascript": [
              "\n",
              "        window._wandbApiKey = new Promise((resolve, reject) => {\n",
              "            function loadScript(url) {\n",
              "            return new Promise(function(resolve, reject) {\n",
              "                let newScript = document.createElement(\"script\");\n",
              "                newScript.onerror = reject;\n",
              "                newScript.onload = resolve;\n",
              "                document.body.appendChild(newScript);\n",
              "                newScript.src = url;\n",
              "            });\n",
              "            }\n",
              "            loadScript(\"https://cdn.jsdelivr.net/npm/postmate/build/postmate.min.js\").then(() => {\n",
              "            const iframe = document.createElement('iframe')\n",
              "            iframe.style.cssText = \"width:0;height:0;border:none\"\n",
              "            document.body.appendChild(iframe)\n",
              "            const handshake = new Postmate({\n",
              "                container: iframe,\n",
              "                url: 'https://wandb.ai/authorize'\n",
              "            });\n",
              "            const timeout = setTimeout(() => reject(\"Couldn't auto authenticate\"), 5000)\n",
              "            handshake.then(function(child) {\n",
              "                child.on('authorize', data => {\n",
              "                    clearTimeout(timeout)\n",
              "                    resolve(data)\n",
              "                });\n",
              "            });\n",
              "            })\n",
              "        });\n",
              "    "
            ]
          },
          "metadata": {}
        },
        {
          "output_type": "stream",
          "name": "stderr",
          "text": [
            "\u001b[34m\u001b[1mwandb\u001b[0m: Logging into wandb.ai. (Learn how to deploy a W&B server locally: https://wandb.me/wandb-server)\n",
            "\u001b[34m\u001b[1mwandb\u001b[0m: You can find your API key in your browser here: https://wandb.ai/authorize\n",
            "wandb: Paste an API key from your profile and hit enter:"
          ]
        },
        {
          "name": "stdout",
          "output_type": "stream",
          "text": [
            " ··········\n"
          ]
        },
        {
          "output_type": "stream",
          "name": "stderr",
          "text": [
            "\u001b[34m\u001b[1mwandb\u001b[0m: \u001b[33mWARNING\u001b[0m If you're specifying your api key in code, ensure this code is not shared publicly.\n",
            "\u001b[34m\u001b[1mwandb\u001b[0m: \u001b[33mWARNING\u001b[0m Consider setting the WANDB_API_KEY environment variable, or running `wandb login` from the command line.\n",
            "\u001b[34m\u001b[1mwandb\u001b[0m: No netrc file found, creating one.\n",
            "\u001b[34m\u001b[1mwandb\u001b[0m: Appending key for api.wandb.ai to your netrc file: /root/.netrc\n",
            "\u001b[34m\u001b[1mwandb\u001b[0m: Currently logged in as: \u001b[33msonalshreya\u001b[0m (\u001b[33musf-alpha-neurons\u001b[0m) to \u001b[32mhttps://api.wandb.ai\u001b[0m. Use \u001b[1m`wandb login --relogin`\u001b[0m to force relogin\n"
          ]
        },
        {
          "output_type": "display_data",
          "data": {
            "text/plain": [
              "<IPython.core.display.HTML object>"
            ],
            "text/html": [
              "Tracking run with wandb version 0.19.9"
            ]
          },
          "metadata": {}
        },
        {
          "output_type": "display_data",
          "data": {
            "text/plain": [
              "<IPython.core.display.HTML object>"
            ],
            "text/html": [
              "Run data is saved locally in <code>/content/wandb/run-20250416_051610-200c0bkh</code>"
            ]
          },
          "metadata": {}
        },
        {
          "output_type": "display_data",
          "data": {
            "text/plain": [
              "<IPython.core.display.HTML object>"
            ],
            "text/html": [
              "Syncing run <strong><a href='https://wandb.ai/usf-alpha-neurons/respiratory_diagnosis/runs/200c0bkh' target=\"_blank\">eager-valley-1</a></strong> to <a href='https://wandb.ai/usf-alpha-neurons/respiratory_diagnosis' target=\"_blank\">Weights & Biases</a> (<a href='https://wandb.me/developer-guide' target=\"_blank\">docs</a>)<br>"
            ]
          },
          "metadata": {}
        },
        {
          "output_type": "display_data",
          "data": {
            "text/plain": [
              "<IPython.core.display.HTML object>"
            ],
            "text/html": [
              " View project at <a href='https://wandb.ai/usf-alpha-neurons/respiratory_diagnosis' target=\"_blank\">https://wandb.ai/usf-alpha-neurons/respiratory_diagnosis</a>"
            ]
          },
          "metadata": {}
        },
        {
          "output_type": "display_data",
          "data": {
            "text/plain": [
              "<IPython.core.display.HTML object>"
            ],
            "text/html": [
              " View run at <a href='https://wandb.ai/usf-alpha-neurons/respiratory_diagnosis/runs/200c0bkh' target=\"_blank\">https://wandb.ai/usf-alpha-neurons/respiratory_diagnosis/runs/200c0bkh</a>"
            ]
          },
          "metadata": {}
        },
        {
          "output_type": "execute_result",
          "data": {
            "text/html": [
              "<button onClick=\"this.nextSibling.style.display='block';this.style.display='none';\">Display W&B run</button><iframe src='https://wandb.ai/usf-alpha-neurons/respiratory_diagnosis/runs/200c0bkh?jupyter=true' style='border:none;width:100%;height:420px;display:none;'></iframe>"
            ],
            "text/plain": [
              "<wandb.sdk.wandb_run.Run at 0x7cb6e4240b50>"
            ]
          },
          "metadata": {},
          "execution_count": 10
        }
      ]
    },
    {
      "cell_type": "markdown",
      "source": [
        "# **Step 3: Load Diagnosis and Patient Split Data**\n",
        "\n",
        "This block loads important metadata required to organize and label the dataset:\n",
        "\n",
        "- The `diagnosis_df` DataFrame reads patient diagnosis information from `diagnosis_data.txt`, which includes a patient ID and their corresponding label (diagnosis class).\n",
        "- Patient IDs are converted to string type to ensure consistent matching later.\n",
        "\n",
        "Next, the training and testing patient splits are read from `train_data.txt` and `test_data.txt`, respectively. These lists help assign each recording to the correct dataset partition for model training and evaluation.\n"
      ],
      "metadata": {
        "id": "lHr4tCg2m7eU"
      }
    },
    {
      "cell_type": "code",
      "source": [
        "# STEP 3: Load diagnosis and patient split data\n",
        "diagnosis_df = pd.read_csv(diagnosis_file, header=None, sep='\\t', names=['Patient_ID', 'Diagnosis'])\n",
        "diagnosis_df['Patient_ID'] = diagnosis_df['Patient_ID'].astype(str)\n",
        "\n",
        "with open(train_patients_file, 'r') as f:\n",
        "    train_patients = [line.strip() for line in f.readlines()]\n",
        "\n",
        "with open(test_patients_file, 'r') as f:\n",
        "    test_patients = [line.strip() for line in f.readlines()]\n"
      ],
      "metadata": {
        "id": "h2M_zrzdumOC"
      },
      "execution_count": 11,
      "outputs": []
    },
    {
      "cell_type": "markdown",
      "source": [
        "# **Step 4: Scan Audio and Annotation Files**\n",
        "\n",
        "This step scans through all the `.wav` audio recordings and their corresponding `.txt` annotation files in the dataset.\n",
        "\n",
        "For each audio file:\n",
        "- The patient ID is extracted from the filename.\n",
        "- It checks if the corresponding annotation file exists.\n",
        "- The patient’s diagnosis is retrieved using their ID.\n",
        "- The file is categorized as part of the train/test/unknown split based on the patient ID.\n",
        "\n",
        "All relevant metadata — such as patient ID, file name, full paths, diagnosis, and dataset split — is compiled into a dictionary and appended to a list.\n",
        "\n",
        "Finally, the list is converted into a `pandas` DataFrame (`df`) that serves as the master reference table for the dataset.\n"
      ],
      "metadata": {
        "id": "SskCxghSnfwO"
      }
    },
    {
      "cell_type": "code",
      "source": [
        "#STEP 4: Scan all audio + annotation files\n",
        "data = []\n",
        "\n",
        "for wav_file in tqdm(glob(os.path.join(audio_dir, \"*.wav\"))):\n",
        "    base_name = os.path.basename(wav_file)\n",
        "    patient_id = base_name.split('_')[0]\n",
        "    txt_file = wav_file.replace(\".wav\", \".txt\")\n",
        "\n",
        "    if not os.path.exists(txt_file):\n",
        "        continue\n",
        "\n",
        "    diagnosis = diagnosis_df.loc[diagnosis_df['Patient_ID'] == patient_id, 'Diagnosis']\n",
        "    diagnosis = diagnosis.values[0] if not diagnosis.empty else None\n",
        "\n",
        "    if patient_id in train_patients:\n",
        "        split = 'train'\n",
        "    elif patient_id in test_patients:\n",
        "        split = 'test'\n",
        "    else:\n",
        "        split = 'unknown'\n",
        "\n",
        "    data.append({\n",
        "        'Patient_ID': patient_id,\n",
        "        'File': base_name,\n",
        "        'WAV_Path': wav_file,\n",
        "        'TXT_Path': txt_file,\n",
        "        'Diagnosis': diagnosis,\n",
        "        'Split': split\n",
        "    })\n",
        "\n",
        "df = pd.DataFrame(data)\n"
      ],
      "metadata": {
        "colab": {
          "base_uri": "https://localhost:8080/"
        },
        "id": "orayHGP2upye",
        "outputId": "152ecaa7-b19b-485e-c8a6-79c8e0befdf0"
      },
      "execution_count": 12,
      "outputs": [
        {
          "output_type": "stream",
          "name": "stderr",
          "text": [
            "100%|██████████| 920/920 [00:01<00:00, 912.60it/s] \n"
          ]
        }
      ]
    },
    {
      "cell_type": "markdown",
      "source": [
        "# **Step 5: Extract Crackle and Wheeze Events from Annotation Files**\n",
        "\n",
        "This step processes the event-level annotation files to identify whether each recording contains audible crackles and/or wheezes.\n",
        "\n",
        "- The function `extract_events` builds the path to each recording’s corresponding `_events.txt` file.\n",
        "- It checks for the presence of the words \"crackle\" or \"wheeze\" (case-insensitive) in the file.\n",
        "- If found, it sets binary flags `has_crackle` and `has_wheeze` accordingly.\n",
        "\n",
        "These values are applied to every file listed in the DataFrame, and two new columns — `Crackles` and `Wheezes` — are added to indicate the presence of these features.\n"
      ],
      "metadata": {
        "id": "zvJcvG2snsIh"
      }
    },
    {
      "cell_type": "code",
      "source": [
        "# STEP 5: Extract crackle and wheeze events from event files\n",
        "def extract_events(file_name):\n",
        "    base_name = os.path.splitext(file_name)[0]\n",
        "    events_file = os.path.join(events_folder, base_name + '_events.txt')\n",
        "    has_crackle, has_wheeze = 0, 0\n",
        "    try:\n",
        "        with open(events_file, 'r') as f:\n",
        "            for line in f:\n",
        "                if 'crackle' in line.lower():\n",
        "                    has_crackle = 1\n",
        "                if 'wheeze' in line.lower():\n",
        "                    has_wheeze = 1\n",
        "    except FileNotFoundError:\n",
        "        pass\n",
        "    return pd.Series([has_crackle, has_wheeze])\n",
        "\n",
        "df[['Crackles', 'Wheezes']] = df['File'].apply(extract_events)\n"
      ],
      "metadata": {
        "id": "qh6SX-kduufO"
      },
      "execution_count": 13,
      "outputs": []
    },
    {
      "cell_type": "markdown",
      "source": [
        "# **Step 6: Merge Refined Train/Test Split from File**\n",
        "\n",
        "This step updates the train/test split information in the main DataFrame using a refined version of the split provided in `train_test_data.txt`.\n",
        "\n",
        "- The file is loaded into a DataFrame with columns `FileBase` (base filename) and `Split` (either `train` or `test`).\n",
        "- A new `File` column is created by appending `.wav` to match the filenames in the main DataFrame.\n",
        "- The old `Split` column is dropped from the main DataFrame to avoid conflict.\n",
        "- A merge is performed to update the split labels based on the actual file names.\n",
        "- Any files that were not found in the split file are assigned the split label `unknown`.\n",
        "\n",
        "This ensures that every audio file is now properly assigned to the training, testing, or unknown group.\n"
      ],
      "metadata": {
        "id": "5Z7SZcFIn1gl"
      }
    },
    {
      "cell_type": "code",
      "source": [
        "# STEP 6: Merge refined train/test data from shared file\n",
        "split_df = pd.read_csv(\n",
        "    train_test_file,\n",
        "    sep='\\t',\n",
        "    header=None,\n",
        "    names=['FileBase', 'Split']\n",
        ")\n",
        "split_df['File'] = split_df['FileBase'] + '.wav'\n",
        "split_df.drop(columns='FileBase', inplace=True)\n",
        "\n",
        "df = df.drop(columns=['Split'])  # Remove old one\n",
        "df = df.merge(split_df, on='File', how='left')\n",
        "df['Split'] = df['Split'].fillna('unknown')\n"
      ],
      "metadata": {
        "id": "TxAPGR83vM1j"
      },
      "execution_count": 14,
      "outputs": []
    },
    {
      "cell_type": "markdown",
      "source": [
        "# **Step 7: Display the Final DataFrame**\n",
        "\n",
        "This step displays the final shape and a preview of the constructed DataFrame (`df`).\n",
        "\n",
        "By this point, the DataFrame includes:\n",
        "- File-level metadata (e.g., filename, paths)\n",
        "- Patient-level information (e.g., diagnosis)\n",
        "- Audio event features (`Crackles`, `Wheezes`)\n",
        "- The final `Split` column indicating whether each file belongs to the training, testing, or unknown set\n",
        "\n",
        "This serves as the master reference table that will be used throughout the preprocessing and model training pipeline.\n"
      ],
      "metadata": {
        "id": "74jKfsX0oGei"
      }
    },
    {
      "cell_type": "code",
      "source": [
        "# STEP 7: Display the final DataFrame\n",
        "print(\" Final DataFrame shape:\", df.shape)\n",
        "df.head()\n"
      ],
      "metadata": {
        "colab": {
          "base_uri": "https://localhost:8080/",
          "height": 224
        },
        "id": "7Hmcn0UvvPim",
        "outputId": "857b5a16-8955-4cdb-822d-e9e11812d071"
      },
      "execution_count": 15,
      "outputs": [
        {
          "output_type": "stream",
          "name": "stdout",
          "text": [
            " Final DataFrame shape: (920, 8)\n"
          ]
        },
        {
          "output_type": "execute_result",
          "data": {
            "text/plain": [
              "  Patient_ID                        File  \\\n",
              "0        160  160_1b3_Tc_mc_AKGC417L.wav   \n",
              "1        160  160_1b4_Ar_mc_AKGC417L.wav   \n",
              "2        158  158_1p4_Tc_mc_AKGC417L.wav   \n",
              "3        160  160_1b3_Al_mc_AKGC417L.wav   \n",
              "4        159  159_1b1_Ll_sc_Meditron.wav   \n",
              "\n",
              "                                            WAV_Path  \\\n",
              "0  /content/drive/MyDrive/ICBHI_final_database/re...   \n",
              "1  /content/drive/MyDrive/ICBHI_final_database/re...   \n",
              "2  /content/drive/MyDrive/ICBHI_final_database/re...   \n",
              "3  /content/drive/MyDrive/ICBHI_final_database/re...   \n",
              "4  /content/drive/MyDrive/ICBHI_final_database/re...   \n",
              "\n",
              "                                            TXT_Path Diagnosis  Crackles  \\\n",
              "0  /content/drive/MyDrive/ICBHI_final_database/re...      COPD         0   \n",
              "1  /content/drive/MyDrive/ICBHI_final_database/re...      COPD         1   \n",
              "2  /content/drive/MyDrive/ICBHI_final_database/re...      COPD         0   \n",
              "3  /content/drive/MyDrive/ICBHI_final_database/re...      COPD         1   \n",
              "4  /content/drive/MyDrive/ICBHI_final_database/re...   Healthy         0   \n",
              "\n",
              "   Wheezes  Split  \n",
              "0        1   test  \n",
              "1        1   test  \n",
              "2        1  train  \n",
              "3        1   test  \n",
              "4        0  train  "
            ],
            "text/html": [
              "\n",
              "  <div id=\"df-9c51dfe9-5103-4c33-9e02-a433df002c85\" class=\"colab-df-container\">\n",
              "    <div>\n",
              "<style scoped>\n",
              "    .dataframe tbody tr th:only-of-type {\n",
              "        vertical-align: middle;\n",
              "    }\n",
              "\n",
              "    .dataframe tbody tr th {\n",
              "        vertical-align: top;\n",
              "    }\n",
              "\n",
              "    .dataframe thead th {\n",
              "        text-align: right;\n",
              "    }\n",
              "</style>\n",
              "<table border=\"1\" class=\"dataframe\">\n",
              "  <thead>\n",
              "    <tr style=\"text-align: right;\">\n",
              "      <th></th>\n",
              "      <th>Patient_ID</th>\n",
              "      <th>File</th>\n",
              "      <th>WAV_Path</th>\n",
              "      <th>TXT_Path</th>\n",
              "      <th>Diagnosis</th>\n",
              "      <th>Crackles</th>\n",
              "      <th>Wheezes</th>\n",
              "      <th>Split</th>\n",
              "    </tr>\n",
              "  </thead>\n",
              "  <tbody>\n",
              "    <tr>\n",
              "      <th>0</th>\n",
              "      <td>160</td>\n",
              "      <td>160_1b3_Tc_mc_AKGC417L.wav</td>\n",
              "      <td>/content/drive/MyDrive/ICBHI_final_database/re...</td>\n",
              "      <td>/content/drive/MyDrive/ICBHI_final_database/re...</td>\n",
              "      <td>COPD</td>\n",
              "      <td>0</td>\n",
              "      <td>1</td>\n",
              "      <td>test</td>\n",
              "    </tr>\n",
              "    <tr>\n",
              "      <th>1</th>\n",
              "      <td>160</td>\n",
              "      <td>160_1b4_Ar_mc_AKGC417L.wav</td>\n",
              "      <td>/content/drive/MyDrive/ICBHI_final_database/re...</td>\n",
              "      <td>/content/drive/MyDrive/ICBHI_final_database/re...</td>\n",
              "      <td>COPD</td>\n",
              "      <td>1</td>\n",
              "      <td>1</td>\n",
              "      <td>test</td>\n",
              "    </tr>\n",
              "    <tr>\n",
              "      <th>2</th>\n",
              "      <td>158</td>\n",
              "      <td>158_1p4_Tc_mc_AKGC417L.wav</td>\n",
              "      <td>/content/drive/MyDrive/ICBHI_final_database/re...</td>\n",
              "      <td>/content/drive/MyDrive/ICBHI_final_database/re...</td>\n",
              "      <td>COPD</td>\n",
              "      <td>0</td>\n",
              "      <td>1</td>\n",
              "      <td>train</td>\n",
              "    </tr>\n",
              "    <tr>\n",
              "      <th>3</th>\n",
              "      <td>160</td>\n",
              "      <td>160_1b3_Al_mc_AKGC417L.wav</td>\n",
              "      <td>/content/drive/MyDrive/ICBHI_final_database/re...</td>\n",
              "      <td>/content/drive/MyDrive/ICBHI_final_database/re...</td>\n",
              "      <td>COPD</td>\n",
              "      <td>1</td>\n",
              "      <td>1</td>\n",
              "      <td>test</td>\n",
              "    </tr>\n",
              "    <tr>\n",
              "      <th>4</th>\n",
              "      <td>159</td>\n",
              "      <td>159_1b1_Ll_sc_Meditron.wav</td>\n",
              "      <td>/content/drive/MyDrive/ICBHI_final_database/re...</td>\n",
              "      <td>/content/drive/MyDrive/ICBHI_final_database/re...</td>\n",
              "      <td>Healthy</td>\n",
              "      <td>0</td>\n",
              "      <td>0</td>\n",
              "      <td>train</td>\n",
              "    </tr>\n",
              "  </tbody>\n",
              "</table>\n",
              "</div>\n",
              "    <div class=\"colab-df-buttons\">\n",
              "\n",
              "  <div class=\"colab-df-container\">\n",
              "    <button class=\"colab-df-convert\" onclick=\"convertToInteractive('df-9c51dfe9-5103-4c33-9e02-a433df002c85')\"\n",
              "            title=\"Convert this dataframe to an interactive table.\"\n",
              "            style=\"display:none;\">\n",
              "\n",
              "  <svg xmlns=\"http://www.w3.org/2000/svg\" height=\"24px\" viewBox=\"0 -960 960 960\">\n",
              "    <path d=\"M120-120v-720h720v720H120Zm60-500h600v-160H180v160Zm220 220h160v-160H400v160Zm0 220h160v-160H400v160ZM180-400h160v-160H180v160Zm440 0h160v-160H620v160ZM180-180h160v-160H180v160Zm440 0h160v-160H620v160Z\"/>\n",
              "  </svg>\n",
              "    </button>\n",
              "\n",
              "  <style>\n",
              "    .colab-df-container {\n",
              "      display:flex;\n",
              "      gap: 12px;\n",
              "    }\n",
              "\n",
              "    .colab-df-convert {\n",
              "      background-color: #E8F0FE;\n",
              "      border: none;\n",
              "      border-radius: 50%;\n",
              "      cursor: pointer;\n",
              "      display: none;\n",
              "      fill: #1967D2;\n",
              "      height: 32px;\n",
              "      padding: 0 0 0 0;\n",
              "      width: 32px;\n",
              "    }\n",
              "\n",
              "    .colab-df-convert:hover {\n",
              "      background-color: #E2EBFA;\n",
              "      box-shadow: 0px 1px 2px rgba(60, 64, 67, 0.3), 0px 1px 3px 1px rgba(60, 64, 67, 0.15);\n",
              "      fill: #174EA6;\n",
              "    }\n",
              "\n",
              "    .colab-df-buttons div {\n",
              "      margin-bottom: 4px;\n",
              "    }\n",
              "\n",
              "    [theme=dark] .colab-df-convert {\n",
              "      background-color: #3B4455;\n",
              "      fill: #D2E3FC;\n",
              "    }\n",
              "\n",
              "    [theme=dark] .colab-df-convert:hover {\n",
              "      background-color: #434B5C;\n",
              "      box-shadow: 0px 1px 3px 1px rgba(0, 0, 0, 0.15);\n",
              "      filter: drop-shadow(0px 1px 2px rgba(0, 0, 0, 0.3));\n",
              "      fill: #FFFFFF;\n",
              "    }\n",
              "  </style>\n",
              "\n",
              "    <script>\n",
              "      const buttonEl =\n",
              "        document.querySelector('#df-9c51dfe9-5103-4c33-9e02-a433df002c85 button.colab-df-convert');\n",
              "      buttonEl.style.display =\n",
              "        google.colab.kernel.accessAllowed ? 'block' : 'none';\n",
              "\n",
              "      async function convertToInteractive(key) {\n",
              "        const element = document.querySelector('#df-9c51dfe9-5103-4c33-9e02-a433df002c85');\n",
              "        const dataTable =\n",
              "          await google.colab.kernel.invokeFunction('convertToInteractive',\n",
              "                                                    [key], {});\n",
              "        if (!dataTable) return;\n",
              "\n",
              "        const docLinkHtml = 'Like what you see? Visit the ' +\n",
              "          '<a target=\"_blank\" href=https://colab.research.google.com/notebooks/data_table.ipynb>data table notebook</a>'\n",
              "          + ' to learn more about interactive tables.';\n",
              "        element.innerHTML = '';\n",
              "        dataTable['output_type'] = 'display_data';\n",
              "        await google.colab.output.renderOutput(dataTable, element);\n",
              "        const docLink = document.createElement('div');\n",
              "        docLink.innerHTML = docLinkHtml;\n",
              "        element.appendChild(docLink);\n",
              "      }\n",
              "    </script>\n",
              "  </div>\n",
              "\n",
              "\n",
              "<div id=\"df-30b36d33-de21-4b4b-846a-09d0fa7199f8\">\n",
              "  <button class=\"colab-df-quickchart\" onclick=\"quickchart('df-30b36d33-de21-4b4b-846a-09d0fa7199f8')\"\n",
              "            title=\"Suggest charts\"\n",
              "            style=\"display:none;\">\n",
              "\n",
              "<svg xmlns=\"http://www.w3.org/2000/svg\" height=\"24px\"viewBox=\"0 0 24 24\"\n",
              "     width=\"24px\">\n",
              "    <g>\n",
              "        <path d=\"M19 3H5c-1.1 0-2 .9-2 2v14c0 1.1.9 2 2 2h14c1.1 0 2-.9 2-2V5c0-1.1-.9-2-2-2zM9 17H7v-7h2v7zm4 0h-2V7h2v10zm4 0h-2v-4h2v4z\"/>\n",
              "    </g>\n",
              "</svg>\n",
              "  </button>\n",
              "\n",
              "<style>\n",
              "  .colab-df-quickchart {\n",
              "      --bg-color: #E8F0FE;\n",
              "      --fill-color: #1967D2;\n",
              "      --hover-bg-color: #E2EBFA;\n",
              "      --hover-fill-color: #174EA6;\n",
              "      --disabled-fill-color: #AAA;\n",
              "      --disabled-bg-color: #DDD;\n",
              "  }\n",
              "\n",
              "  [theme=dark] .colab-df-quickchart {\n",
              "      --bg-color: #3B4455;\n",
              "      --fill-color: #D2E3FC;\n",
              "      --hover-bg-color: #434B5C;\n",
              "      --hover-fill-color: #FFFFFF;\n",
              "      --disabled-bg-color: #3B4455;\n",
              "      --disabled-fill-color: #666;\n",
              "  }\n",
              "\n",
              "  .colab-df-quickchart {\n",
              "    background-color: var(--bg-color);\n",
              "    border: none;\n",
              "    border-radius: 50%;\n",
              "    cursor: pointer;\n",
              "    display: none;\n",
              "    fill: var(--fill-color);\n",
              "    height: 32px;\n",
              "    padding: 0;\n",
              "    width: 32px;\n",
              "  }\n",
              "\n",
              "  .colab-df-quickchart:hover {\n",
              "    background-color: var(--hover-bg-color);\n",
              "    box-shadow: 0 1px 2px rgba(60, 64, 67, 0.3), 0 1px 3px 1px rgba(60, 64, 67, 0.15);\n",
              "    fill: var(--button-hover-fill-color);\n",
              "  }\n",
              "\n",
              "  .colab-df-quickchart-complete:disabled,\n",
              "  .colab-df-quickchart-complete:disabled:hover {\n",
              "    background-color: var(--disabled-bg-color);\n",
              "    fill: var(--disabled-fill-color);\n",
              "    box-shadow: none;\n",
              "  }\n",
              "\n",
              "  .colab-df-spinner {\n",
              "    border: 2px solid var(--fill-color);\n",
              "    border-color: transparent;\n",
              "    border-bottom-color: var(--fill-color);\n",
              "    animation:\n",
              "      spin 1s steps(1) infinite;\n",
              "  }\n",
              "\n",
              "  @keyframes spin {\n",
              "    0% {\n",
              "      border-color: transparent;\n",
              "      border-bottom-color: var(--fill-color);\n",
              "      border-left-color: var(--fill-color);\n",
              "    }\n",
              "    20% {\n",
              "      border-color: transparent;\n",
              "      border-left-color: var(--fill-color);\n",
              "      border-top-color: var(--fill-color);\n",
              "    }\n",
              "    30% {\n",
              "      border-color: transparent;\n",
              "      border-left-color: var(--fill-color);\n",
              "      border-top-color: var(--fill-color);\n",
              "      border-right-color: var(--fill-color);\n",
              "    }\n",
              "    40% {\n",
              "      border-color: transparent;\n",
              "      border-right-color: var(--fill-color);\n",
              "      border-top-color: var(--fill-color);\n",
              "    }\n",
              "    60% {\n",
              "      border-color: transparent;\n",
              "      border-right-color: var(--fill-color);\n",
              "    }\n",
              "    80% {\n",
              "      border-color: transparent;\n",
              "      border-right-color: var(--fill-color);\n",
              "      border-bottom-color: var(--fill-color);\n",
              "    }\n",
              "    90% {\n",
              "      border-color: transparent;\n",
              "      border-bottom-color: var(--fill-color);\n",
              "    }\n",
              "  }\n",
              "</style>\n",
              "\n",
              "  <script>\n",
              "    async function quickchart(key) {\n",
              "      const quickchartButtonEl =\n",
              "        document.querySelector('#' + key + ' button');\n",
              "      quickchartButtonEl.disabled = true;  // To prevent multiple clicks.\n",
              "      quickchartButtonEl.classList.add('colab-df-spinner');\n",
              "      try {\n",
              "        const charts = await google.colab.kernel.invokeFunction(\n",
              "            'suggestCharts', [key], {});\n",
              "      } catch (error) {\n",
              "        console.error('Error during call to suggestCharts:', error);\n",
              "      }\n",
              "      quickchartButtonEl.classList.remove('colab-df-spinner');\n",
              "      quickchartButtonEl.classList.add('colab-df-quickchart-complete');\n",
              "    }\n",
              "    (() => {\n",
              "      let quickchartButtonEl =\n",
              "        document.querySelector('#df-30b36d33-de21-4b4b-846a-09d0fa7199f8 button');\n",
              "      quickchartButtonEl.style.display =\n",
              "        google.colab.kernel.accessAllowed ? 'block' : 'none';\n",
              "    })();\n",
              "  </script>\n",
              "</div>\n",
              "\n",
              "    </div>\n",
              "  </div>\n"
            ],
            "application/vnd.google.colaboratory.intrinsic+json": {
              "type": "dataframe",
              "variable_name": "df",
              "summary": "{\n  \"name\": \"df\",\n  \"rows\": 920,\n  \"fields\": [\n    {\n      \"column\": \"Patient_ID\",\n      \"properties\": {\n        \"dtype\": \"category\",\n        \"num_unique_values\": 126,\n        \"samples\": [\n          \"103\",\n          \"177\",\n          \"151\"\n        ],\n        \"semantic_type\": \"\",\n        \"description\": \"\"\n      }\n    },\n    {\n      \"column\": \"File\",\n      \"properties\": {\n        \"dtype\": \"string\",\n        \"num_unique_values\": 920,\n        \"samples\": [\n          \"199_2b1_Ll_mc_LittC2SE.wav\",\n          \"205_2b4_Pl_mc_AKGC417L.wav\",\n          \"112_1p1_Pr_sc_Litt3200.wav\"\n        ],\n        \"semantic_type\": \"\",\n        \"description\": \"\"\n      }\n    },\n    {\n      \"column\": \"WAV_Path\",\n      \"properties\": {\n        \"dtype\": \"string\",\n        \"num_unique_values\": 920,\n        \"samples\": [\n          \"/content/drive/MyDrive/ICBHI_final_database/recordings_annotations/199_2b1_Ll_mc_LittC2SE.wav\",\n          \"/content/drive/MyDrive/ICBHI_final_database/recordings_annotations/205_2b4_Pl_mc_AKGC417L.wav\",\n          \"/content/drive/MyDrive/ICBHI_final_database/recordings_annotations/112_1p1_Pr_sc_Litt3200.wav\"\n        ],\n        \"semantic_type\": \"\",\n        \"description\": \"\"\n      }\n    },\n    {\n      \"column\": \"TXT_Path\",\n      \"properties\": {\n        \"dtype\": \"string\",\n        \"num_unique_values\": 920,\n        \"samples\": [\n          \"/content/drive/MyDrive/ICBHI_final_database/recordings_annotations/199_2b1_Ll_mc_LittC2SE.txt\",\n          \"/content/drive/MyDrive/ICBHI_final_database/recordings_annotations/205_2b4_Pl_mc_AKGC417L.txt\",\n          \"/content/drive/MyDrive/ICBHI_final_database/recordings_annotations/112_1p1_Pr_sc_Litt3200.txt\"\n        ],\n        \"semantic_type\": \"\",\n        \"description\": \"\"\n      }\n    },\n    {\n      \"column\": \"Diagnosis\",\n      \"properties\": {\n        \"dtype\": \"category\",\n        \"num_unique_values\": 8,\n        \"samples\": [\n          \"Healthy\",\n          \"Pneumonia\",\n          \"COPD\"\n        ],\n        \"semantic_type\": \"\",\n        \"description\": \"\"\n      }\n    },\n    {\n      \"column\": \"Crackles\",\n      \"properties\": {\n        \"dtype\": \"number\",\n        \"std\": 0,\n        \"min\": 0,\n        \"max\": 1,\n        \"num_unique_values\": 2,\n        \"samples\": [\n          1,\n          0\n        ],\n        \"semantic_type\": \"\",\n        \"description\": \"\"\n      }\n    },\n    {\n      \"column\": \"Wheezes\",\n      \"properties\": {\n        \"dtype\": \"number\",\n        \"std\": 0,\n        \"min\": 0,\n        \"max\": 1,\n        \"num_unique_values\": 2,\n        \"samples\": [\n          0,\n          1\n        ],\n        \"semantic_type\": \"\",\n        \"description\": \"\"\n      }\n    },\n    {\n      \"column\": \"Split\",\n      \"properties\": {\n        \"dtype\": \"category\",\n        \"num_unique_values\": 3,\n        \"samples\": [\n          \"test\",\n          \"train\"\n        ],\n        \"semantic_type\": \"\",\n        \"description\": \"\"\n      }\n    }\n  ]\n}"
            }
          },
          "metadata": {},
          "execution_count": 15
        }
      ]
    },
    {
      "cell_type": "markdown",
      "source": [
        "# **Step 8: Generate and Save Spectrograms**\n",
        "\n",
        "This step defines a helper function to generate both `.npy` and `.png` spectrograms from audio recordings.\n",
        "\n",
        "- The `generate_and_save_spectrogram()` function loads an audio file using `librosa`, computes its Short-Time Fourier Transform (STFT), and converts it into decibel scale.\n",
        "- The decibel spectrogram is normalized and saved as a `.npy` file — this will be used as input for model training.\n",
        "- A visual version of the spectrogram is also created and saved as a `.png` image for use in visualizations and Grad-CAM++ overlays.\n",
        "\n",
        "All generated files are stored in a folder called `spectrograms` inside the dataset root directory.\n"
      ],
      "metadata": {
        "id": "RbvXT338oZ5Z"
      }
    },
    {
      "cell_type": "code",
      "source": [
        "#Step 8\n",
        "import librosa.display\n",
        "import matplotlib.pyplot as plt\n",
        "import os\n",
        "import numpy as np\n",
        "\n",
        "# Create output folder\n",
        "output_dir = os.path.join(root_dir, \"spectrograms\")\n",
        "os.makedirs(output_dir, exist_ok=True)\n",
        "\n",
        "# Spectrogram helper\n",
        "def generate_and_save_spectrogram(wav_path, file_name, duration=3, n_fft=2048, hop_length=512):\n",
        "    y, sr = librosa.load(wav_path, sr=None, duration=duration)\n",
        "\n",
        "    # STFT + dB conversion\n",
        "    S = librosa.stft(y, n_fft=n_fft, hop_length=hop_length)\n",
        "    S_db = librosa.amplitude_to_db(np.abs(S), ref=np.max)\n",
        "\n",
        "    # Normalize for training (.npy)\n",
        "    S_db_norm = (S_db - np.min(S_db)) / (np.max(S_db) - np.min(S_db))\n",
        "\n",
        "    # Save .npy\n",
        "    npy_path = os.path.join(output_dir, file_name.replace(\".wav\", \".npy\"))\n",
        "    np.save(npy_path, S_db_norm)\n",
        "\n",
        "    # Save .png\n",
        "    png_path = os.path.join(output_dir, file_name.replace(\".wav\", \".png\"))\n",
        "    plt.figure(figsize=(10, 4))\n",
        "    librosa.display.specshow(S_db, sr=sr, hop_length=hop_length, x_axis='time', y_axis='log')\n",
        "    plt.axis('off')\n",
        "    plt.tight_layout()\n",
        "    plt.savefig(png_path, bbox_inches='tight', pad_inches=0)\n",
        "    plt.close()\n",
        "\n",
        "    return npy_path, png_path\n"
      ],
      "metadata": {
        "id": "6lYa8BwLvT59"
      },
      "execution_count": 16,
      "outputs": []
    },
    {
      "cell_type": "markdown",
      "source": [
        "# **Step 9 : Batch Generate Spectrograms**\n",
        "\n",
        "This loop iterates over each row in the main DataFrame and generates spectrograms for each `.wav` file using the previously defined `generate_and_save_spectrogram()` function.\n",
        "\n",
        "- For each audio file, it checks if the corresponding `.npy` and `.png` spectrograms already exist. If they do, it skips regeneration and simply records the paths in the DataFrame.\n",
        "- If the spectrograms do not exist, it generates them and stores their paths (`Spectrogram_Array` and `Spectrogram_Image`) in new columns in the DataFrame.\n",
        "- Any errors during processing are caught and logged with a warning message.\n",
        "\n",
        "This step ensures that spectrograms are created once, stored efficiently, and reused for both training and visualization.\n"
      ],
      "metadata": {
        "id": "iwoeHCj7pRLo"
      }
    },
    {
      "cell_type": "code",
      "source": [
        "# ✅ Step 9: Spectrogram Generation with Enhanced Visual & Signal Resolution\n",
        "\n",
        "import librosa.display\n",
        "import matplotlib.pyplot as plt\n",
        "import os\n",
        "import numpy as np\n",
        "\n",
        "# 📁 Create output folder\n",
        "output_dir = os.path.join(root_dir, \"spectrograms_high_resolution\")\n",
        "os.makedirs(output_dir, exist_ok=True)\n",
        "\n",
        "# 🎛️ Spectrogram Parameters (High-Resolution)\n",
        "n_fft = 4096         # Increased FFT size → better frequency resolution\n",
        "hop_length = 256     # Smaller hop → better time resolution\n",
        "duration = 3         # Duration (sec) to load from audio\n",
        "\n",
        "# 🆕 Optional: Pitch shift augmentation for rare training classes\n",
        "def augment_pitch_shift(y, sr):\n",
        "    return librosa.effects.pitch_shift(y, sr=sr, n_steps=np.random.uniform(-2, 2))\n",
        "\n",
        "# 🎨 High-res spectrogram generation + saving\n",
        "def generate_and_save_spectrogram(wav_path, file_name, diagnosis=None, split=None):\n",
        "    y, sr = librosa.load(wav_path, sr=None, duration=duration)\n",
        "\n",
        "    # 🔄 Augment rare classes only during training\n",
        "    rare_classes = ['Asthma', 'LRTI']\n",
        "    if split == 'train' and diagnosis in rare_classes:\n",
        "        y = augment_pitch_shift(y, sr)\n",
        "\n",
        "    # 🎧 Compute STFT and dB spectrogram\n",
        "    S = librosa.stft(y, n_fft=n_fft, hop_length=hop_length)\n",
        "    S_db = librosa.amplitude_to_db(np.abs(S), ref=np.max)\n",
        "\n",
        "    # 🔁 Normalize for .npy output\n",
        "    S_db_norm = (S_db - np.min(S_db)) / (np.max(S_db) - np.min(S_db))\n",
        "\n",
        "    # 💾 Save .npy file (used for model input)\n",
        "    npy_path = os.path.join(output_dir, file_name.replace(\".wav\", \".npy\"))\n",
        "    np.save(npy_path, S_db_norm)\n",
        "\n",
        "    # 💾 Save high-res .png for Grad-CAM overlays\n",
        "    png_path = os.path.join(output_dir, file_name.replace(\".wav\", \".png\"))\n",
        "    plt.figure(figsize=(12, 6), dpi=300)  # 🎨 Bigger image & higher DPI\n",
        "    librosa.display.specshow(S_db, sr=sr, hop_length=hop_length, x_axis='time', y_axis='log')\n",
        "    plt.axis('off')\n",
        "    plt.tight_layout()\n",
        "    plt.savefig(png_path, bbox_inches='tight', pad_inches=0, dpi=300)\n",
        "    plt.close()\n",
        "\n",
        "    return npy_path, png_path\n",
        "\n",
        "from tqdm import tqdm\n",
        "\n",
        "# ✅ Loop through all rows in df and generate spectrograms\n",
        "for idx, row in tqdm(df.iterrows(), total=len(df), desc=\"🔄 Generating Spectrograms\"):\n",
        "    file = row['File']\n",
        "    npy_path = os.path.join(output_dir, file.replace('.wav', '.npy'))\n",
        "    png_path = os.path.join(output_dir, file.replace('.wav', '.png'))\n",
        "\n",
        "    # ✅ Skip if BOTH npy and png already exist (previous run completed this file)\n",
        "    if os.path.exists(npy_path) and os.path.exists(png_path):\n",
        "        df.at[idx, 'Spectrogram_Array'] = npy_path\n",
        "        df.at[idx, 'Spectrogram_Image'] = png_path\n",
        "        continue\n",
        "\n",
        "    # 🔁 Else process and save\n",
        "    try:\n",
        "        npy_path, png_path = generate_and_save_spectrogram(\n",
        "            row['WAV_Path'],\n",
        "            row['File'],\n",
        "            diagnosis=row['Diagnosis'],\n",
        "            split=row['Split']\n",
        "        )\n",
        "        df.at[idx, 'Spectrogram_Array'] = npy_path\n",
        "        df.at[idx, 'Spectrogram_Image'] = png_path\n",
        "    except Exception as e:\n",
        "        print(f\"⚠️ Failed to process {row['File']}: {e}\")\n",
        "\n"
      ],
      "metadata": {
        "colab": {
          "base_uri": "https://localhost:8080/"
        },
        "id": "uZuUXGQkvnaf",
        "outputId": "69bef367-498a-4c58-a14a-70832241c362"
      },
      "execution_count": 17,
      "outputs": [
        {
          "output_type": "stream",
          "name": "stderr",
          "text": [
            "🔄 Generating Spectrograms: 100%|██████████| 920/920 [00:00<00:00, 1069.33it/s]\n"
          ]
        }
      ]
    },
    {
      "cell_type": "markdown",
      "source": [
        "# **Step 10: Save DataFrame with Spectrogram Paths**\n",
        "\n",
        "After generating spectrograms for all audio files, this step saves the updated DataFrame (`df`) as a `.pkl` file (`df_with_spectrograms.pkl`) in the project root directory.\n",
        "\n",
        "The saved DataFrame includes:\n",
        "- Original metadata (file paths, labels, split info, etc.)\n",
        "- New columns pointing to the saved `.npy` and `.png` spectrograms\n",
        "\n",
        "This serialized file can be loaded later to skip the entire preprocessing step and go straight into training or visualization.\n"
      ],
      "metadata": {
        "id": "ShQ3mHEup0_F"
      }
    },
    {
      "cell_type": "code",
      "source": [
        "#Step 10\n",
        "df.to_pickle(os.path.join(root_dir, \"df_with_spectrograms.pkl\"))\n",
        "print(\"Saved metadata with spectrogram paths.\")\n"
      ],
      "metadata": {
        "colab": {
          "base_uri": "https://localhost:8080/"
        },
        "id": "CAMLrazLGrtk",
        "outputId": "fb23349a-b67c-429b-b242-8c7c70eb0f66"
      },
      "execution_count": 18,
      "outputs": [
        {
          "output_type": "stream",
          "name": "stdout",
          "text": [
            "Saved metadata with spectrogram paths.\n"
          ]
        }
      ]
    },
    {
      "cell_type": "markdown",
      "source": [
        "# **Step 11: Filter Data, Encode Labels, and Visualize Distribution**\n",
        "\n",
        "This step prepares the dataset for model training by performing the following tasks:\n",
        "\n",
        "- **Filtering**: It removes any entries labeled as `'unknown'` in the `Split` column, keeping only those explicitly assigned to either the training or test set.\n",
        "\n",
        "- **Label Encoding**: Uses `LabelEncoder` from `sklearn` to convert diagnosis labels (strings) into numerical class IDs, which are required for training a classification model. The result is stored in a new column called `EncodedLabel`.\n",
        "\n",
        "- **Class Overview**: Prints the list of unique diagnosis classes in encoded form and stores the total number of classes for use in the model setup.\n",
        "\n",
        "- **Visualization**: A bar plot is generated to show the distribution of diagnosis labels across training and test sets. This helps verify that the classes are somewhat balanced and that the dataset split is reasonable.\n"
      ],
      "metadata": {
        "id": "cAf4kOU8qKf8"
      }
    },
    {
      "cell_type": "code",
      "source": [
        "# ✅ Step 11: Filter unknown patients\n",
        "df = df[df['Split'].isin(['train', 'test'])].reset_index(drop=True)\n",
        "print(f\"✅ Total valid samples after filtering: {df.shape[0]}\")\n",
        "\n",
        "# ✅ Encode original diagnosis labels (optional but useful for analysis)\n",
        "from sklearn.preprocessing import LabelEncoder\n",
        "label_encoder = LabelEncoder()\n",
        "df['EncodedLabel'] = label_encoder.fit_transform(df['Diagnosis'].astype(str))\n",
        "print(\"🔠 Original Encoded Classes:\", list(label_encoder.classes_))\n",
        "\n",
        "# ✅ Group diagnoses into medically-informed superclasses\n",
        "group_mapping = {\n",
        "    'COPD': 'Obstructive',\n",
        "    'Asthma': 'Obstructive',\n",
        "    'Pneumonia': 'Infectious',\n",
        "    'Bronchitis': 'Infectious',\n",
        "    'URTI': 'Infectious',\n",
        "    'LRTI': 'Infectious',\n",
        "    'Bronchiolitis': 'Infectious',\n",
        "    'Bronchiectasis': 'Structural',\n",
        "    'Healthy': 'Healthy'\n",
        "}\n",
        "\n",
        "df['Diagnosis_Group'] = df['Diagnosis'].map(group_mapping)\n",
        "\n",
        "# ✅ Encode new grouped classes\n",
        "from sklearn.preprocessing import LabelEncoder\n",
        "group_encoder = LabelEncoder()\n",
        "df['GroupLabel'] = group_encoder.fit_transform(df['Diagnosis_Group'])\n",
        "print(\"📌 Grouped Classes:\", list(group_encoder.classes_))\n",
        "\n",
        "# ✅ Visualize group-wise label distribution\n",
        "import seaborn as sns\n",
        "import matplotlib.pyplot as plt\n",
        "\n",
        "plt.figure(figsize=(8, 4))\n",
        "sns.countplot(data=df, x='Diagnosis_Group', order=df['Diagnosis_Group'].value_counts().index, hue='Split')\n",
        "plt.title(\"📊 Grouped Diagnosis Distribution by Train/Test Split\")\n",
        "plt.xlabel(\"Diagnosis Group\")\n",
        "plt.ylabel(\"Sample Count\")\n",
        "plt.grid(axis='y')\n",
        "plt.tight_layout()\n",
        "plt.show()\n"
      ],
      "metadata": {
        "colab": {
          "base_uri": "https://localhost:8080/",
          "height": 534
        },
        "id": "NV4MFtO8IinB",
        "outputId": "382fcdb1-4a92-41ec-83d4-8650e12b1ee5"
      },
      "execution_count": 19,
      "outputs": [
        {
          "output_type": "stream",
          "name": "stdout",
          "text": [
            "✅ Total valid samples after filtering: 919\n",
            "🔠 Original Encoded Classes: ['Asthma', 'Bronchiectasis', 'Bronchiolitis', 'COPD', 'Healthy', 'LRTI', 'Pneumonia', 'URTI']\n",
            "📌 Grouped Classes: ['Healthy', 'Infectious', 'Obstructive', 'Structural']\n"
          ]
        },
        {
          "output_type": "stream",
          "name": "stderr",
          "text": [
            "<ipython-input-19-d28757f1b299>:42: UserWarning: Glyph 128202 (\\N{BAR CHART}) missing from font(s) DejaVu Sans.\n",
            "  plt.tight_layout()\n",
            "/usr/local/lib/python3.11/dist-packages/IPython/core/pylabtools.py:151: UserWarning: Glyph 128202 (\\N{BAR CHART}) missing from font(s) DejaVu Sans.\n",
            "  fig.canvas.print_figure(bytes_io, **kw)\n"
          ]
        },
        {
          "output_type": "display_data",
          "data": {
            "text/plain": [
              "<Figure size 800x400 with 1 Axes>"
            ],
            "image/png": "[encoded data removed]"
          },
          "metadata": {}
        }
      ]
    },
    {
      "cell_type": "markdown",
      "source": [
        "# **Step 12: Split into Train/Test Sets and Save**\n",
        "\n",
        "This step separates the full dataset into two DataFrames:\n",
        "- `train_df`: contains only samples marked as part of the training set\n",
        "- `test_df`: contains only samples marked for testing\n",
        "\n",
        "To support reproducibility and efficient reloading later, both splits are saved as `.pkl` (pickle) files:\n",
        "- `train_split.pkl`\n",
        "- `test_split.pkl`\n",
        "\n",
        "These files can be loaded in future sessions to skip reprocessing and directly begin model training or evaluation.\n"
      ],
      "metadata": {
        "id": "fr2qAQIsqxPE"
      }
    },
    {
      "cell_type": "code",
      "source": [
        "# ✅ Step 12: Stratified 80:20 split based on GroupLabel\n",
        "from sklearn.model_selection import train_test_split\n",
        "\n",
        "# 🧹 Remove any NaN GroupLabel just in case\n",
        "df = df[df['GroupLabel'].notna()].reset_index(drop=True)\n",
        "\n",
        "# ✅ Perform stratified split\n",
        "train_df, test_df = train_test_split(\n",
        "    df,\n",
        "    test_size=0.2,\n",
        "    stratify=df['GroupLabel'],\n",
        "    random_state=42\n",
        ")\n",
        "\n",
        "# Reset indices\n",
        "train_df = train_df.reset_index(drop=True)\n",
        "test_df = test_df.reset_index(drop=True)\n",
        "\n",
        "# 💾 Save to .pkl for reproducibility\n",
        "train_split_path = os.path.join(root_dir, \"train_split_stratified.pkl\")\n",
        "test_split_path = os.path.join(root_dir, \"test_split_stratified.pkl\")\n",
        "\n",
        "train_df.to_pickle(train_split_path)\n",
        "test_df.to_pickle(test_split_path)\n",
        "\n",
        "# 🔎 Show result summary\n",
        "print(f\"📁 Stratified Train split saved to: {train_split_path}\")\n",
        "print(f\"📁 Stratified Test split saved to: {test_split_path}\")\n",
        "print(f\"🔢 Train class distribution:\\n{train_df['GroupLabel'].value_counts()}\")\n",
        "print(f\"🔢 Test class distribution:\\n{test_df['GroupLabel'].value_counts()}\")\n"
      ],
      "metadata": {
        "colab": {
          "base_uri": "https://localhost:8080/"
        },
        "id": "DWtw6hAgIqI4",
        "outputId": "eb0dd781-cdd8-4b82-9301-613c88253df6"
      },
      "execution_count": 20,
      "outputs": [
        {
          "output_type": "stream",
          "name": "stdout",
          "text": [
            "📁 Stratified Train split saved to: /content/drive/MyDrive/ICBHI_final_database/train_split_stratified.pkl\n",
            "📁 Stratified Test split saved to: /content/drive/MyDrive/ICBHI_final_database/test_split_stratified.pkl\n",
            "🔢 Train class distribution:\n",
            "GroupLabel\n",
            "2    635\n",
            "1     59\n",
            "0     28\n",
            "3     13\n",
            "Name: count, dtype: int64\n",
            "🔢 Test class distribution:\n",
            "GroupLabel\n",
            "2    159\n",
            "1     15\n",
            "0      7\n",
            "3      3\n",
            "Name: count, dtype: int64\n"
          ]
        }
      ]
    },
    {
      "cell_type": "markdown",
      "source": [
        "# **Step 13: Reload Train and Test Split Data**\n",
        "\n",
        "This step reloads the previously saved `train_df` and `test_df` DataFrames from their `.pkl` files.  \n",
        "It ensures that the dataset splits are preserved across notebook sessions without needing to repeat earlier preprocessing steps.\n",
        "\n",
        "After loading, it prints the shapes of both datasets to confirm successful reloading.\n"
      ],
      "metadata": {
        "id": "ckuFxtVirQaR"
      }
    },
    {
      "cell_type": "code",
      "source": [
        "# ✅ Step 13: Reload stratified train/test split\n",
        "train_split_path = os.path.join(root_dir, \"train_split_stratified.pkl\")\n",
        "test_split_path = os.path.join(root_dir, \"test_split_stratified.pkl\")\n",
        "\n",
        "train_df = pd.read_pickle(train_split_path)\n",
        "test_df = pd.read_pickle(test_split_path)\n",
        "\n",
        "print(f\"🧪 Reloaded Stratified Splits:\")\n",
        "print(f\" - Train shape: {train_df.shape}\")\n",
        "print(f\" - Test shape: {test_df.shape}\")\n",
        "print(f\" - Train class counts:\\n{train_df['GroupLabel'].value_counts()}\")\n",
        "print(f\" - Test class counts:\\n{test_df['GroupLabel'].value_counts()}\")\n"
      ],
      "metadata": {
        "colab": {
          "base_uri": "https://localhost:8080/"
        },
        "id": "se6-KU3dJ3T0",
        "outputId": "4a4a0f7d-35fc-48a4-b1cd-daed5e2b676a"
      },
      "execution_count": 21,
      "outputs": [
        {
          "output_type": "stream",
          "name": "stdout",
          "text": [
            "🧪 Reloaded Stratified Splits:\n",
            " - Train shape: (735, 13)\n",
            " - Test shape: (184, 13)\n",
            " - Train class counts:\n",
            "GroupLabel\n",
            "2    635\n",
            "1     59\n",
            "0     28\n",
            "3     13\n",
            "Name: count, dtype: int64\n",
            " - Test class counts:\n",
            "GroupLabel\n",
            "2    159\n",
            "1     15\n",
            "0      7\n",
            "3      3\n",
            "Name: count, dtype: int64\n"
          ]
        }
      ]
    },
    {
      "cell_type": "code",
      "source": [],
      "metadata": {
        "id": "OTLQXnyrDNS0"
      },
      "execution_count": null,
      "outputs": []
    },
    {
      "cell_type": "code",
      "source": [],
      "metadata": {
        "id": "cexKmxopDNGR"
      },
      "execution_count": null,
      "outputs": []
    },
    {
      "cell_type": "code",
      "source": [
        "from torchvision import transforms\n",
        "from PIL import Image\n",
        "from torch.utils.data import Dataset\n",
        "\n",
        "class Spectrogram2DDataset(Dataset):\n",
        "    def __init__(self, df, transform=None):\n",
        "        self.df = df.reset_index(drop=True)\n",
        "        self.transform = transform\n",
        "\n",
        "    def __len__(self):\n",
        "        return len(self.df)\n",
        "\n",
        "    def __getitem__(self, idx):\n",
        "        img_path = self.df.loc[idx, 'Spectrogram_Image']\n",
        "        label = self.df.loc[idx, 'GroupLabel']\n",
        "        image = Image.open(img_path).convert('RGB')\n",
        "\n",
        "        if self.transform:\n",
        "            image = self.transform(image)\n",
        "\n",
        "        return image, label\n"
      ],
      "metadata": {
        "id": "t-m4BNaqsYll"
      },
      "execution_count": 22,
      "outputs": []
    },
    {
      "cell_type": "code",
      "source": [
        "from torch.utils.data import DataLoader\n",
        "from torchvision import transforms\n",
        "\n",
        "img_transforms = transforms.Compose([\n",
        "    transforms.Resize((224, 224)),\n",
        "    transforms.ToTensor(),\n",
        "])\n",
        "\n",
        "train_ds = Spectrogram2DDataset(train_df, transform=img_transforms)\n",
        "test_ds = Spectrogram2DDataset(test_df, transform=img_transforms)\n",
        "\n",
        "train_loader = DataLoader(train_ds, batch_size=32, shuffle=True)\n",
        "test_loader = DataLoader(test_ds, batch_size=32)\n",
        "\n",
        "print(\"✅ Dataloaders are ready!\")\n",
        "\n",
        "sample_dataset = Spectrogram2DDataset(train_df, transform=img_transforms)\n",
        "\n",
        "# Log 3 spectrogram images to wandb\n",
        "for i in range(3):  # or use random indices\n",
        "    image, label = sample_dataset[i]\n",
        "\n",
        "    # wandb.Image takes PIL or tensor directly\n",
        "    wandb.log({\n",
        "        f\"Sample Spectrogram {i+1}\": wandb.Image(image, caption=f\"Label: {label}\")\n",
        "    })\n"
      ],
      "metadata": {
        "colab": {
          "base_uri": "https://localhost:8080/"
        },
        "id": "I5OwII-xsipw",
        "outputId": "74a31b4e-530b-47ec-a635-3c08d569d5cf"
      },
      "execution_count": 25,
      "outputs": [
        {
          "output_type": "stream",
          "name": "stdout",
          "text": [
            "✅ Dataloaders are ready!\n"
          ]
        }
      ]
    },
    {
      "cell_type": "code",
      "source": [
        "import torch\n",
        "import torch.nn as nn\n",
        "import torch.nn.functional as F\n",
        "from torchvision.models import resnet18\n",
        "\n",
        "device = torch.device(\"cuda\" if torch.cuda.is_available() else \"cpu\")\n",
        "num_classes = len(train_df['GroupLabel'].unique())\n",
        "\n",
        "model = resnet18(pretrained=True)\n",
        "\n",
        "# Freeze all layers\n",
        "for param in model.parameters():\n",
        "    param.requires_grad = False\n",
        "\n",
        "# Unfreeze last two layers: layer4 and fc\n",
        "for name, param in model.named_parameters():\n",
        "    if 'layer4' in name or 'fc' in name:\n",
        "        param.requires_grad = True\n",
        "\n",
        "# Replace the final layer\n",
        "model.fc = nn.Linear(model.fc.in_features, num_classes)\n",
        "model = model.to(device)\n"
      ],
      "metadata": {
        "colab": {
          "base_uri": "https://localhost:8080/"
        },
        "id": "vVRVgcYnsnnF",
        "outputId": "1c79cdf6-fb03-4aae-ae10-c842df562fe2"
      },
      "execution_count": 26,
      "outputs": [
        {
          "output_type": "stream",
          "name": "stderr",
          "text": [
            "/usr/local/lib/python3.11/dist-packages/torchvision/models/_utils.py:208: UserWarning: The parameter 'pretrained' is deprecated since 0.13 and may be removed in the future, please use 'weights' instead.\n",
            "  warnings.warn(\n",
            "/usr/local/lib/python3.11/dist-packages/torchvision/models/_utils.py:223: UserWarning: Arguments other than a weight enum or `None` for 'weights' are deprecated since 0.13 and may be removed in the future. The current behavior is equivalent to passing `weights=ResNet18_Weights.IMAGENET1K_V1`. You can also use `weights=ResNet18_Weights.DEFAULT` to get the most up-to-date weights.\n",
            "  warnings.warn(msg)\n",
            "Downloading: \"https://download.pytorch.org/models/resnet18-f37072fd.pth\" to /root/.cache/torch/hub/checkpoints/resnet18-f37072fd.pth\n",
            "100%|██████████| 44.7M/44.7M [00:00<00:00, 174MB/s]\n"
          ]
        }
      ]
    },
    {
      "cell_type": "code",
      "source": [
        "from sklearn.utils.class_weight import compute_class_weight\n",
        "import torch\n",
        "\n",
        "classes = np.unique(train_df['GroupLabel'])\n",
        "class_weights = compute_class_weight(\n",
        "    class_weight='balanced',\n",
        "    classes=classes,\n",
        "    y=train_df['GroupLabel']\n",
        ")\n",
        "class_weights = torch.tensor(class_weights, dtype=torch.float).to(device)\n",
        "\n",
        "criterion = nn.CrossEntropyLoss(weight=class_weights)\n",
        "learning_rate = 1e-4\n",
        "weight_decay = 1e-5\n",
        "optimizer = torch.optim.Adam(\n",
        "    filter(lambda p: p.requires_grad, model.parameters()),\n",
        "    lr=learning_rate,\n",
        "    weight_decay=weight_decay\n",
        ")\n",
        "wandb.config.update({\n",
        "    \"model\": \"ResNet18\",\n",
        "    \"loss_function\": \"CrossEntropyLoss (weighted)\",\n",
        "    \"optimizer\": \"Adam\",\n",
        "    \"learning_rate\": learning_rate,\n",
        "    \"weight_decay\": weight_decay,\n",
        "    \"class_weights\": {\n",
        "        f\"Group {cls}\": float(weight)\n",
        "        for cls, weight in zip(classes, class_weights)\n",
        "    }\n",
        "})"
      ],
      "metadata": {
        "id": "Tzu2b6tds5RT"
      },
      "execution_count": 28,
      "outputs": []
    },
    {
      "cell_type": "code",
      "source": [
        "from sklearn.metrics import accuracy_score\n",
        "\n",
        "\n",
        "num_epochs = 20\n",
        "\n",
        "for epoch in range(num_epochs):\n",
        "    model.train()\n",
        "    total_loss = 0\n",
        "    all_preds, all_labels = [], []\n",
        "\n",
        "    for X, y in train_loader:\n",
        "        X, y = X.to(device), y.to(device)\n",
        "        optimizer.zero_grad()\n",
        "        outputs = model(X)\n",
        "        loss = criterion(outputs, y)\n",
        "        loss.backward()\n",
        "        optimizer.step()\n",
        "        total_loss += loss.item()\n",
        "\n",
        "        preds = torch.argmax(outputs, dim=1)\n",
        "        all_preds.extend(preds.cpu().numpy())\n",
        "        all_labels.extend(y.cpu().numpy())\n",
        "\n",
        "    # 📊 Metrics\n",
        "    avg_loss = total_loss / len(train_loader)\n",
        "    train_acc = accuracy_score(all_labels, all_preds)\n",
        "\n",
        "    # 🪄 Log to wandb\n",
        "    wandb.log({\n",
        "        \"epoch\": epoch + 1,\n",
        "        \"train_loss\": avg_loss,\n",
        "        \"train_accuracy\": train_acc\n",
        "    })\n",
        "\n",
        "    print(f\"📚 Epoch {epoch+1} | Train Loss: {avg_loss:.4f} | Train Acc: {train_acc:.4f}\")\n"
      ],
      "metadata": {
        "colab": {
          "base_uri": "https://localhost:8080/"
        },
        "id": "d-iMIF5stBpx",
        "outputId": "7006253a-b75d-42c4-c982-572152415ebf"
      },
      "execution_count": 30,
      "outputs": [
        {
          "output_type": "stream",
          "name": "stdout",
          "text": [
            "📚 Epoch 1 | Train Loss: 0.3158 | Train Acc: 0.8626\n",
            "📚 Epoch 2 | Train Loss: 0.1487 | Train Acc: 0.9497\n",
            "📚 Epoch 3 | Train Loss: 0.0785 | Train Acc: 0.9769\n",
            "📚 Epoch 4 | Train Loss: 0.0516 | Train Acc: 0.9878\n",
            "📚 Epoch 5 | Train Loss: 0.0407 | Train Acc: 0.9946\n",
            "📚 Epoch 6 | Train Loss: 0.0266 | Train Acc: 0.9959\n",
            "📚 Epoch 7 | Train Loss: 0.0218 | Train Acc: 1.0000\n",
            "📚 Epoch 8 | Train Loss: 0.0177 | Train Acc: 1.0000\n",
            "📚 Epoch 9 | Train Loss: 0.0189 | Train Acc: 1.0000\n",
            "📚 Epoch 10 | Train Loss: 0.0115 | Train Acc: 1.0000\n",
            "📚 Epoch 11 | Train Loss: 0.0089 | Train Acc: 1.0000\n",
            "📚 Epoch 12 | Train Loss: 0.0099 | Train Acc: 1.0000\n",
            "📚 Epoch 13 | Train Loss: 0.0068 | Train Acc: 1.0000\n",
            "📚 Epoch 14 | Train Loss: 0.0061 | Train Acc: 1.0000\n",
            "📚 Epoch 15 | Train Loss: 0.0060 | Train Acc: 1.0000\n",
            "📚 Epoch 16 | Train Loss: 0.0054 | Train Acc: 1.0000\n",
            "📚 Epoch 17 | Train Loss: 0.0052 | Train Acc: 1.0000\n",
            "📚 Epoch 18 | Train Loss: 0.0056 | Train Acc: 1.0000\n",
            "📚 Epoch 19 | Train Loss: 0.0046 | Train Acc: 1.0000\n",
            "📚 Epoch 20 | Train Loss: 0.0030 | Train Acc: 1.0000\n"
          ]
        }
      ]
    },
    {
      "cell_type": "code",
      "source": [
        "from sklearn.metrics import (\n",
        "    accuracy_score, f1_score, precision_score, recall_score,\n",
        "    roc_auc_score, classification_report\n",
        ")\n",
        "import torch.nn.functional as F\n",
        "import numpy as np\n",
        "\n",
        "# Inference on TEST SET\n",
        "model.eval()\n",
        "test_preds, test_labels, test_probs = [], [], []\n",
        "\n",
        "with torch.no_grad():\n",
        "    for X, y in test_loader:\n",
        "        X, y = X.to(device), y.to(device)\n",
        "        logits = model(X)\n",
        "        probs = F.softmax(logits, dim=1)\n",
        "        preds = torch.argmax(probs, dim=1)\n",
        "\n",
        "        test_preds.extend(preds.cpu().numpy())\n",
        "        test_labels.extend(y.cpu().numpy())\n",
        "        test_probs.extend(probs.cpu().numpy())\n",
        "\n",
        "# Convert to numpy arrays\n",
        "test_preds = np.array(test_preds)\n",
        "test_labels = np.array(test_labels)\n",
        "test_probs = np.array(test_probs)\n",
        "\n",
        "# Compute weighted metrics\n",
        "test_acc = accuracy_score(test_labels, test_preds)\n",
        "test_f1 = f1_score(test_labels, test_preds, average='weighted')\n",
        "test_precision = precision_score(test_labels, test_preds, average='weighted')\n",
        "test_recall = recall_score(test_labels, test_preds, average='weighted')\n",
        "\n",
        "# Compute AUC (multi-class)\n",
        "try:\n",
        "    test_auc = roc_auc_score(\n",
        "        y_true=np.eye(num_classes)[test_labels],\n",
        "        y_score=test_probs,\n",
        "        average='weighted',\n",
        "        multi_class='ovr'\n",
        "    )\n",
        "except Exception as e:\n",
        "    test_auc = None\n",
        "    print(\"AUC could not be computed:\", str(e))\n",
        "\n",
        "# Print classification report\n",
        "print(\"Test Classification Report:\")\n",
        "print(classification_report(test_labels, test_preds, target_names=group_encoder.classes_))\n",
        "print(f\"Test Accuracy:  {test_acc:.4f}\")\n",
        "print(f\"Test F1 Score:  {test_f1:.4f}\")\n",
        "print(f\"Test Precision: {test_precision:.4f}\")\n",
        "print(f\"Test Recall:    {test_recall:.4f}\")\n",
        "if test_auc is not None:\n",
        "    print(f\"Test ROC AUC:   {test_auc:.4f}\")\n",
        "\n",
        "# Log to Weights & Biases\n",
        "import wandb\n",
        "wandb.log({\n",
        "    \"test/accuracy\": test_acc,\n",
        "    \"test/f1_score\": test_f1,\n",
        "    \"test/precision\": test_precision,\n",
        "    \"test/recall\": test_recall,\n",
        "    \"test/auc\": test_auc if test_auc is not None else 0.0\n",
        "})\n"
      ],
      "metadata": {
        "colab": {
          "base_uri": "https://localhost:8080/"
        },
        "id": "KtZyFYT5QmnV",
        "outputId": "5d6cb553-ce4e-413a-f261-cb6f1dd4cb60"
      },
      "execution_count": 32,
      "outputs": [
        {
          "output_type": "stream",
          "name": "stdout",
          "text": [
            "Test Classification Report:\n",
            "              precision    recall  f1-score   support\n",
            "\n",
            "     Healthy       0.40      0.29      0.33         7\n",
            "  Infectious       0.67      0.67      0.67        15\n",
            " Obstructive       0.96      0.99      0.98       159\n",
            "  Structural       1.00      0.33      0.50         3\n",
            "\n",
            "    accuracy                           0.92       184\n",
            "   macro avg       0.76      0.57      0.62       184\n",
            "weighted avg       0.92      0.92      0.92       184\n",
            "\n",
            "Test Accuracy:  0.9239\n",
            "Test F1 Score:  0.9178\n",
            "Test Precision: 0.9182\n",
            "Test Recall:    0.9239\n",
            "Test ROC AUC:   0.9873\n"
          ]
        }
      ]
    },
    {
      "cell_type": "code",
      "source": [
        "import matplotlib.pyplot as plt\n",
        "from sklearn.metrics import confusion_matrix, ConfusionMatrixDisplay, roc_curve, auc\n",
        "from sklearn.preprocessing import label_binarize\n",
        "import numpy as np\n",
        "\n",
        "# ✅ Confusion Matrix\n",
        "cm = confusion_matrix(test_labels, test_preds)\n",
        "disp = ConfusionMatrixDisplay(confusion_matrix=cm, display_labels=group_encoder.classes_)\n",
        "\n",
        "fig_cm, ax_cm = plt.subplots(figsize=(6, 6))\n",
        "disp.plot(ax=ax_cm, cmap='Blues', xticks_rotation=45)\n",
        "plt.title(\"Confusion Matrix\")\n",
        "plt.grid(False)\n",
        "plt.tight_layout()\n",
        "plt.show()\n",
        "\n",
        "# ✅ Log confusion matrix to W&B\n",
        "wandb.log({\"Confusion Matrix\": wandb.Image(fig_cm)})\n",
        "\n",
        "# ✅ ROC Curve - One-vs-Rest\n",
        "test_labels_binarized = label_binarize(test_labels, classes=np.arange(num_classes))\n",
        "\n",
        "fpr = dict()\n",
        "tpr = dict()\n",
        "roc_auc = dict()\n",
        "\n",
        "fig_roc, ax_roc = plt.subplots(figsize=(8, 6))\n",
        "\n",
        "for i in range(num_classes):\n",
        "    fpr[i], tpr[i], _ = roc_curve(test_labels_binarized[:, i], test_probs[:, i])\n",
        "    roc_auc[i] = auc(fpr[i], tpr[i])\n",
        "    ax_roc.plot(fpr[i], tpr[i], label=f\"{group_encoder.classes_[i]} (AUC = {roc_auc[i]:.2f})\")\n",
        "\n",
        "ax_roc.plot([0, 1], [0, 1], 'k--', label='Random Chance')\n",
        "ax_roc.set_xlabel(\"False Positive Rate\")\n",
        "ax_roc.set_ylabel(\"True Positive Rate\")\n",
        "ax_roc.set_title(\"ROC Curve - One-vs-Rest\")\n",
        "ax_roc.legend(loc=\"lower right\")\n",
        "plt.grid(True)\n",
        "plt.tight_layout()\n",
        "plt.show()\n",
        "\n",
        "# ✅ Log ROC to W&B\n",
        "wandb.log({\"ROC Curve\": wandb.Image(fig_roc)})\n"
      ],
      "metadata": {
        "colab": {
          "base_uri": "https://localhost:8080/",
          "height": 1000
        },
        "id": "tiG6Ri34Uxwt",
        "outputId": "a388d509-4317-4d69-fbce-a7b2e252b1a8"
      },
      "execution_count": 33,
      "outputs": [
        {
          "output_type": "display_data",
          "data": {
            "text/plain": [
              "<Figure size 600x600 with 2 Axes>"
            ],
            "image/png": "[encoded data removed]"
          },
          "metadata": {}
        },
        {
          "output_type": "display_data",
          "data": {
            "text/plain": [
              "<Figure size 800x600 with 1 Axes>"
            ],
            "image/png": "[encoded data removed]"
          },
          "metadata": {}
        }
      ]
    },
    {
      "cell_type": "code",
      "source": [
        "import os\n",
        "import torch\n",
        "import wandb\n",
        "\n",
        "# Define the model path in your Google Drive\n",
        "model_save_path = \"/content/drive/MyDrive/ICBHI_final_database/resnet18_20epoch_grouped.pth\"\n",
        "\n",
        "# Save model state dictionary\n",
        "torch.save(model.state_dict(), model_save_path)\n",
        "print(f\"Model saved to: {model_save_path}\")\n",
        "\n",
        "# Log model as an artifact to Weights & Biases\n",
        "artifact = wandb.Artifact(\n",
        "    name=\"resnet18_20epoch-icbhi-grouped\",\n",
        "    type=\"model\",\n",
        "    description=\"ResNet18 model trained on ICBHI with grouped diagnosis labels\",\n",
        "    metadata={\n",
        "        \"architecture\": \"ResNet18\",\n",
        "        \"input\": \"2D Spectrograms\",\n",
        "        \"labels\": list(group_encoder.classes_),\n",
        "        \"epochs\": 20,\n",
        "        \"optimizer\": \"Adam\",\n",
        "        \"loss\": \"Weighted CrossEntropy\",\n",
        "        \"class_weights\": class_weights.cpu().numpy().tolist()\n",
        "    }\n",
        ")\n",
        "\n",
        "artifact.add_file(model_save_path)\n",
        "wandb.log_artifact(artifact)\n"
      ],
      "metadata": {
        "colab": {
          "base_uri": "https://localhost:8080/"
        },
        "id": "slaSiFagVLGY",
        "outputId": "8e83edc2-1cc0-493f-e87d-d2dc33a3d5b4"
      },
      "execution_count": 34,
      "outputs": [
        {
          "output_type": "stream",
          "name": "stdout",
          "text": [
            "Model saved to: /content/drive/MyDrive/ICBHI_final_database/resnet18_20epoch_grouped.pth\n"
          ]
        },
        {
          "output_type": "execute_result",
          "data": {
            "text/plain": [
              "<Artifact resnet18_20epoch-icbhi-grouped>"
            ]
          },
          "metadata": {},
          "execution_count": 34
        }
      ]
    },
    {
      "cell_type": "code",
      "source": [
        "wandb.finish()"
      ],
      "metadata": {
        "colab": {
          "base_uri": "https://localhost:8080/",
          "height": 611
        },
        "id": "gsR16LwpVeEx",
        "outputId": "7a638c71-960c-4ad1-d43c-633efe56f233"
      },
      "execution_count": 35,
      "outputs": [
        {
          "output_type": "display_data",
          "data": {
            "text/plain": [
              "<IPython.core.display.HTML object>"
            ],
            "text/html": []
          },
          "metadata": {}
        },
        {
          "output_type": "display_data",
          "data": {
            "text/plain": [
              "<IPython.core.display.HTML object>"
            ],
            "text/html": [
              "<br>    <style><br>        .wandb-row {<br>            display: flex;<br>            flex-direction: row;<br>            flex-wrap: wrap;<br>            justify-content: flex-start;<br>            width: 100%;<br>        }<br>        .wandb-col {<br>            display: flex;<br>            flex-direction: column;<br>            flex-basis: 100%;<br>            flex: 1;<br>            padding: 10px;<br>        }<br>    </style><br><div class=\"wandb-row\"><div class=\"wandb-col\"><h3>Run history:</h3><br/><table class=\"wandb\"><tr><td>epoch</td><td>▁▁▁▂▂▂▃▃▄▄▄▅▅▅▆▆▇▇▇██</td></tr><tr><td>test/accuracy</td><td>▁</td></tr><tr><td>test/auc</td><td>▁</td></tr><tr><td>test/f1_score</td><td>▁</td></tr><tr><td>test/precision</td><td>▁</td></tr><tr><td>test/recall</td><td>▁</td></tr><tr><td>train_accuracy</td><td>▁▅▇▇████████████████</td></tr><tr><td>train_loss</td><td>█▃▂▁▁▁▁▁▁▁▁▁▁▁▁▁▁▁▁▁▁</td></tr></table><br/></div><div class=\"wandb-col\"><h3>Run summary:</h3><br/><table class=\"wandb\"><tr><td>epoch</td><td>20</td></tr><tr><td>test/accuracy</td><td>0.92391</td></tr><tr><td>test/auc</td><td>0.98728</td></tr><tr><td>test/f1_score</td><td>0.91784</td></tr><tr><td>test/precision</td><td>0.91819</td></tr><tr><td>test/recall</td><td>0.92391</td></tr><tr><td>train_accuracy</td><td>1</td></tr><tr><td>train_loss</td><td>0.00298</td></tr></table><br/></div></div>"
            ]
          },
          "metadata": {}
        },
        {
          "output_type": "display_data",
          "data": {
            "text/plain": [
              "<IPython.core.display.HTML object>"
            ],
            "text/html": [
              " View run <strong style=\"color:#cdcd00\">eager-valley-1</strong> at: <a href='https://wandb.ai/usf-alpha-neurons/respiratory_diagnosis/runs/200c0bkh' target=\"_blank\">https://wandb.ai/usf-alpha-neurons/respiratory_diagnosis/runs/200c0bkh</a><br> View project at: <a href='https://wandb.ai/usf-alpha-neurons/respiratory_diagnosis' target=\"_blank\">https://wandb.ai/usf-alpha-neurons/respiratory_diagnosis</a><br>Synced 5 W&B file(s), 5 media file(s), 2 artifact file(s) and 0 other file(s)"
            ]
          },
          "metadata": {}
        },
        {
          "output_type": "display_data",
          "data": {
            "text/plain": [
              "<IPython.core.display.HTML object>"
            ],
            "text/html": [
              "Find logs at: <code>./wandb/run-20250416_051610-200c0bkh/logs</code>"
            ]
          },
          "metadata": {}
        }
      ]
    }
  ]
}